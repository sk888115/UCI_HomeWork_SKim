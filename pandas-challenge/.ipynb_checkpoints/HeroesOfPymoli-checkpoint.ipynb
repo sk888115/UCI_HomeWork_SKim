{
 "cells": [
  {
   "cell_type": "code",
   "execution_count": 17,
   "metadata": {},
   "outputs": [],
   "source": [
    "# Dependencies and Setup\n",
    "import pandas as pd\n",
    "\n",
    "# File to Load (Remember to Change These)\n",
    "file_to_load = \"HeroesOfPymoli/Resources/purchase_data.csv\"\n",
    "\n",
    "# Read Purchasing File and store into Pandas data frame\n",
    "purchase_data = pd.read_csv(file_to_load)"
   ]
  },
  {
   "cell_type": "code",
   "execution_count": 18,
   "metadata": {},
   "outputs": [
    {
     "data": {
      "text/html": [
       "<div>\n",
       "<style scoped>\n",
       "    .dataframe tbody tr th:only-of-type {\n",
       "        vertical-align: middle;\n",
       "    }\n",
       "\n",
       "    .dataframe tbody tr th {\n",
       "        vertical-align: top;\n",
       "    }\n",
       "\n",
       "    .dataframe thead th {\n",
       "        text-align: right;\n",
       "    }\n",
       "</style>\n",
       "<table border=\"1\" class=\"dataframe\">\n",
       "  <thead>\n",
       "    <tr style=\"text-align: right;\">\n",
       "      <th></th>\n",
       "      <th>Total Players</th>\n",
       "    </tr>\n",
       "  </thead>\n",
       "  <tbody>\n",
       "    <tr>\n",
       "      <th>0</th>\n",
       "      <td>576</td>\n",
       "    </tr>\n",
       "  </tbody>\n",
       "</table>\n",
       "</div>"
      ],
      "text/plain": [
       "   Total Players\n",
       "0            576"
      ]
     },
     "execution_count": 18,
     "metadata": {},
     "output_type": "execute_result"
    }
   ],
   "source": [
    "# Player Count\n",
    "\n",
    "# Display the total number of players without double-counting the same name.\n",
    "total_num_players = len(purchase_data['SN'].unique())\n",
    "\n",
    "# Create a data frame of Player Count\n",
    "player_count = pd.DataFrame({\"Total Players\":[total_num_players]})\n",
    "player_count"
   ]
  },
  {
   "cell_type": "code",
   "execution_count": 19,
   "metadata": {},
   "outputs": [
    {
     "data": {
      "text/html": [
       "<style  type=\"text/css\" >\n",
       "</style><table id=\"T_280d0c9c_092f_11eb_9844_40ec99bba629\" ><thead>    <tr>        <th class=\"blank level0\" ></th>        <th class=\"col_heading level0 col0\" >Number of Unique Items</th>        <th class=\"col_heading level0 col1\" >Average Price</th>        <th class=\"col_heading level0 col2\" >Number of Purchases</th>        <th class=\"col_heading level0 col3\" >Total Revenue</th>    </tr></thead><tbody>\n",
       "                <tr>\n",
       "                        <th id=\"T_280d0c9c_092f_11eb_9844_40ec99bba629level0_row0\" class=\"row_heading level0 row0\" >0</th>\n",
       "                        <td id=\"T_280d0c9c_092f_11eb_9844_40ec99bba629row0_col0\" class=\"data row0 col0\" >179</td>\n",
       "                        <td id=\"T_280d0c9c_092f_11eb_9844_40ec99bba629row0_col1\" class=\"data row0 col1\" >$3.05</td>\n",
       "                        <td id=\"T_280d0c9c_092f_11eb_9844_40ec99bba629row0_col2\" class=\"data row0 col2\" >780</td>\n",
       "                        <td id=\"T_280d0c9c_092f_11eb_9844_40ec99bba629row0_col3\" class=\"data row0 col3\" >$2,379.77</td>\n",
       "            </tr>\n",
       "    </tbody></table>"
      ],
      "text/plain": [
       "<pandas.io.formats.style.Styler at 0x18349af86a0>"
      ]
     },
     "execution_count": 19,
     "metadata": {},
     "output_type": "execute_result"
    }
   ],
   "source": [
    "# Purchasing Analysis (Total)\n",
    "\n",
    "# Number of Unique Items\n",
    "num_unique_items = len((purchase_data[\"Item ID\"]).unique())\n",
    "\n",
    "# Average Purchase Price\n",
    "avg_price = (purchase_data[\"Price\"]).mean()\n",
    "\n",
    "# Total Number of Purchases\n",
    "num_purchases = (purchase_data[\"Purchase ID\"]).count()\n",
    "\n",
    "# Total Revenue\n",
    "total_rev = (purchase_data[\"Price\"]).sum()\n",
    "\n",
    "# Create a data frame of Purchasing Analysis (Total)\n",
    "purchasing_analysis = pd.DataFrame({\n",
    "    \"Number of Unique Items\":[num_unique_items],\n",
    "    \"Average Price\":[avg_price],\n",
    "    \"Number of Purchases\":[num_purchases],\n",
    "    \"Total Revenue\":[total_rev]\n",
    "})\n",
    "purchasing_analysis\n",
    "\n",
    "# Formatting\n",
    "purchasing_analysis.style.format({\n",
    "    \"Average Price\":\"${:,.2f}\",\n",
    "    \"Total Revenue\": \"${:,.2f}\"\n",
    "})"
   ]
  },
  {
   "cell_type": "code",
   "execution_count": 20,
   "metadata": {},
   "outputs": [
    {
     "data": {
      "text/html": [
       "<style  type=\"text/css\" >\n",
       "</style><table id=\"T_28872524_092f_11eb_9f1a_40ec99bba629\" ><thead>    <tr>        <th class=\"blank level0\" ></th>        <th class=\"col_heading level0 col0\" >Total Count</th>        <th class=\"col_heading level0 col1\" >Percentage of Players</th>    </tr></thead><tbody>\n",
       "                <tr>\n",
       "                        <th id=\"T_28872524_092f_11eb_9f1a_40ec99bba629level0_row0\" class=\"row_heading level0 row0\" >Male</th>\n",
       "                        <td id=\"T_28872524_092f_11eb_9f1a_40ec99bba629row0_col0\" class=\"data row0 col0\" >484</td>\n",
       "                        <td id=\"T_28872524_092f_11eb_9f1a_40ec99bba629row0_col1\" class=\"data row0 col1\" >84.03%</td>\n",
       "            </tr>\n",
       "            <tr>\n",
       "                        <th id=\"T_28872524_092f_11eb_9f1a_40ec99bba629level0_row1\" class=\"row_heading level0 row1\" >Female</th>\n",
       "                        <td id=\"T_28872524_092f_11eb_9f1a_40ec99bba629row1_col0\" class=\"data row1 col0\" >81</td>\n",
       "                        <td id=\"T_28872524_092f_11eb_9f1a_40ec99bba629row1_col1\" class=\"data row1 col1\" >14.06%</td>\n",
       "            </tr>\n",
       "            <tr>\n",
       "                        <th id=\"T_28872524_092f_11eb_9f1a_40ec99bba629level0_row2\" class=\"row_heading level0 row2\" >Other / Non-Disclosed</th>\n",
       "                        <td id=\"T_28872524_092f_11eb_9f1a_40ec99bba629row2_col0\" class=\"data row2 col0\" >11</td>\n",
       "                        <td id=\"T_28872524_092f_11eb_9f1a_40ec99bba629row2_col1\" class=\"data row2 col1\" >1.91%</td>\n",
       "            </tr>\n",
       "    </tbody></table>"
      ],
      "text/plain": [
       "<pandas.io.formats.style.Styler at 0x1834896acf8>"
      ]
     },
     "execution_count": 20,
     "metadata": {},
     "output_type": "execute_result"
    }
   ],
   "source": [
    "# Gender Demographics\n",
    "\n",
    "# Group data in 'Gender' column\n",
    "gender_stats = purchase_data.groupby(\"Gender\")\n",
    "\n",
    "# Count the total of screen names \"SN\" by gender\n",
    "total_gender_count = gender_stats['SN'].unique()\n",
    "\n",
    "# Total count by gender and divivde by total players \n",
    "percentage_of_players = total_count_gender / total_num_players * 100\n",
    "\n",
    "# Create data frame with obtained values\n",
    "gender_demographics = pd.DataFrame({\"Total Count\": total_count_gender, \"Percentage of Players\": percentage_of_players})\n",
    "\n",
    "# Format the data frame with no index name in the corner\n",
    "gender_demographics.index.name = None\n",
    "\n",
    "# Formatting\n",
    "gender_demographics.sort_values([\"Total Count\"], ascending = False).style.format({\"Percentage of Players\":\"{:.2f}%\"})\n"
   ]
  },
  {
   "cell_type": "code",
   "execution_count": 21,
   "metadata": {},
   "outputs": [
    {
     "data": {
      "text/html": [
       "<style  type=\"text/css\" >\n",
       "</style><table id=\"T_296bf940_092f_11eb_8921_40ec99bba629\" ><thead>    <tr>        <th class=\"blank level0\" ></th>        <th class=\"col_heading level0 col0\" >Purchase Count</th>        <th class=\"col_heading level0 col1\" >Average Purchase Price</th>        <th class=\"col_heading level0 col2\" >Average Purchase Value</th>        <th class=\"col_heading level0 col3\" >Avg Purchase Total per Person</th>    </tr>    <tr>        <th class=\"index_name level0\" >Gender</th>        <th class=\"blank\" ></th>        <th class=\"blank\" ></th>        <th class=\"blank\" ></th>        <th class=\"blank\" ></th>    </tr></thead><tbody>\n",
       "                <tr>\n",
       "                        <th id=\"T_296bf940_092f_11eb_8921_40ec99bba629level0_row0\" class=\"row_heading level0 row0\" >Female</th>\n",
       "                        <td id=\"T_296bf940_092f_11eb_8921_40ec99bba629row0_col0\" class=\"data row0 col0\" >113</td>\n",
       "                        <td id=\"T_296bf940_092f_11eb_8921_40ec99bba629row0_col1\" class=\"data row0 col1\" >$3.20</td>\n",
       "                        <td id=\"T_296bf940_092f_11eb_8921_40ec99bba629row0_col2\" class=\"data row0 col2\" >$361.94</td>\n",
       "                        <td id=\"T_296bf940_092f_11eb_8921_40ec99bba629row0_col3\" class=\"data row0 col3\" >$4.47</td>\n",
       "            </tr>\n",
       "            <tr>\n",
       "                        <th id=\"T_296bf940_092f_11eb_8921_40ec99bba629level0_row1\" class=\"row_heading level0 row1\" >Male</th>\n",
       "                        <td id=\"T_296bf940_092f_11eb_8921_40ec99bba629row1_col0\" class=\"data row1 col0\" >652</td>\n",
       "                        <td id=\"T_296bf940_092f_11eb_8921_40ec99bba629row1_col1\" class=\"data row1 col1\" >$3.02</td>\n",
       "                        <td id=\"T_296bf940_092f_11eb_8921_40ec99bba629row1_col2\" class=\"data row1 col2\" >$1,967.64</td>\n",
       "                        <td id=\"T_296bf940_092f_11eb_8921_40ec99bba629row1_col3\" class=\"data row1 col3\" >$4.07</td>\n",
       "            </tr>\n",
       "            <tr>\n",
       "                        <th id=\"T_296bf940_092f_11eb_8921_40ec99bba629level0_row2\" class=\"row_heading level0 row2\" >Other / Non-Disclosed</th>\n",
       "                        <td id=\"T_296bf940_092f_11eb_8921_40ec99bba629row2_col0\" class=\"data row2 col0\" >15</td>\n",
       "                        <td id=\"T_296bf940_092f_11eb_8921_40ec99bba629row2_col1\" class=\"data row2 col1\" >$3.35</td>\n",
       "                        <td id=\"T_296bf940_092f_11eb_8921_40ec99bba629row2_col2\" class=\"data row2 col2\" >$50.19</td>\n",
       "                        <td id=\"T_296bf940_092f_11eb_8921_40ec99bba629row2_col3\" class=\"data row2 col3\" >$4.56</td>\n",
       "            </tr>\n",
       "    </tbody></table>"
      ],
      "text/plain": [
       "<pandas.io.formats.style.Styler at 0x183468ed208>"
      ]
     },
     "execution_count": 21,
     "metadata": {},
     "output_type": "execute_result"
    }
   ],
   "source": [
    "# Purchasing Analysis (Gender)\n",
    "\n",
    "# Total purchases by gender\n",
    "purchase_count = gender_stats[\"Purchase ID\"].count()\n",
    "\n",
    "# Average purchase prices by gender\n",
    "avg_purchase_price = gender_stats[\"Price\"].mean()\n",
    "\n",
    "# Average purchase total by gender \n",
    "avg_purchase_total = gender_stats[\"Price\"].sum()\n",
    "\n",
    "# Average purchase total by gender divivded by purchase count by unique shoppers\n",
    "avg_purchase_per_person = avg_purchase_total/total_count_gender\n",
    "\n",
    "# Create data frame with obtained values \n",
    "gender_demographics = pd.DataFrame({\"Purchase Count\": purchase_count, \n",
    "                                    \"Average Purchase Price\": avg_purchase_price,\n",
    "                                    \"Average Purchase Value\":avg_purchase_total,\n",
    "                                    \"Avg Purchase Total per Person\": avg_purchase_per_person})\n",
    "\n",
    "# Provide first colunmn header name as \"Gender\"\n",
    "gender_demographics.index.name = \"Gender\"\n",
    "\n",
    "# Formatting\n",
    "gender_demographics.style.format({\"Average Purchase Value\":\"${:,.2f}\",\n",
    "                                  \"Average Purchase Price\":\"${:,.2f}\",\n",
    "                                  \"Avg Purchase Total per Person\":\"${:,.2f}\"})"
   ]
  },
  {
   "cell_type": "code",
   "execution_count": 28,
   "metadata": {},
   "outputs": [
    {
     "data": {
      "text/html": [
       "<style  type=\"text/css\" >\n",
       "</style><table id=\"T_916e7090_092f_11eb_9e87_40ec99bba629\" ><thead>    <tr>        <th class=\"blank level0\" ></th>        <th class=\"col_heading level0 col0\" >Total Count</th>        <th class=\"col_heading level0 col1\" >Percentage of Players</th>    </tr></thead><tbody>\n",
       "                <tr>\n",
       "                        <th id=\"T_916e7090_092f_11eb_9e87_40ec99bba629level0_row0\" class=\"row_heading level0 row0\" ><10</th>\n",
       "                        <td id=\"T_916e7090_092f_11eb_9e87_40ec99bba629row0_col0\" class=\"data row0 col0\" >17</td>\n",
       "                        <td id=\"T_916e7090_092f_11eb_9e87_40ec99bba629row0_col1\" class=\"data row0 col1\" >2.95%</td>\n",
       "            </tr>\n",
       "            <tr>\n",
       "                        <th id=\"T_916e7090_092f_11eb_9e87_40ec99bba629level0_row1\" class=\"row_heading level0 row1\" >10-14</th>\n",
       "                        <td id=\"T_916e7090_092f_11eb_9e87_40ec99bba629row1_col0\" class=\"data row1 col0\" >22</td>\n",
       "                        <td id=\"T_916e7090_092f_11eb_9e87_40ec99bba629row1_col1\" class=\"data row1 col1\" >3.82%</td>\n",
       "            </tr>\n",
       "            <tr>\n",
       "                        <th id=\"T_916e7090_092f_11eb_9e87_40ec99bba629level0_row2\" class=\"row_heading level0 row2\" >15-19</th>\n",
       "                        <td id=\"T_916e7090_092f_11eb_9e87_40ec99bba629row2_col0\" class=\"data row2 col0\" >107</td>\n",
       "                        <td id=\"T_916e7090_092f_11eb_9e87_40ec99bba629row2_col1\" class=\"data row2 col1\" >18.58%</td>\n",
       "            </tr>\n",
       "            <tr>\n",
       "                        <th id=\"T_916e7090_092f_11eb_9e87_40ec99bba629level0_row3\" class=\"row_heading level0 row3\" >20-24</th>\n",
       "                        <td id=\"T_916e7090_092f_11eb_9e87_40ec99bba629row3_col0\" class=\"data row3 col0\" >258</td>\n",
       "                        <td id=\"T_916e7090_092f_11eb_9e87_40ec99bba629row3_col1\" class=\"data row3 col1\" >44.79%</td>\n",
       "            </tr>\n",
       "            <tr>\n",
       "                        <th id=\"T_916e7090_092f_11eb_9e87_40ec99bba629level0_row4\" class=\"row_heading level0 row4\" >25-29</th>\n",
       "                        <td id=\"T_916e7090_092f_11eb_9e87_40ec99bba629row4_col0\" class=\"data row4 col0\" >77</td>\n",
       "                        <td id=\"T_916e7090_092f_11eb_9e87_40ec99bba629row4_col1\" class=\"data row4 col1\" >13.37%</td>\n",
       "            </tr>\n",
       "            <tr>\n",
       "                        <th id=\"T_916e7090_092f_11eb_9e87_40ec99bba629level0_row5\" class=\"row_heading level0 row5\" >30-34</th>\n",
       "                        <td id=\"T_916e7090_092f_11eb_9e87_40ec99bba629row5_col0\" class=\"data row5 col0\" >52</td>\n",
       "                        <td id=\"T_916e7090_092f_11eb_9e87_40ec99bba629row5_col1\" class=\"data row5 col1\" >9.03%</td>\n",
       "            </tr>\n",
       "            <tr>\n",
       "                        <th id=\"T_916e7090_092f_11eb_9e87_40ec99bba629level0_row6\" class=\"row_heading level0 row6\" >35-39</th>\n",
       "                        <td id=\"T_916e7090_092f_11eb_9e87_40ec99bba629row6_col0\" class=\"data row6 col0\" >31</td>\n",
       "                        <td id=\"T_916e7090_092f_11eb_9e87_40ec99bba629row6_col1\" class=\"data row6 col1\" >5.38%</td>\n",
       "            </tr>\n",
       "            <tr>\n",
       "                        <th id=\"T_916e7090_092f_11eb_9e87_40ec99bba629level0_row7\" class=\"row_heading level0 row7\" >40+</th>\n",
       "                        <td id=\"T_916e7090_092f_11eb_9e87_40ec99bba629row7_col0\" class=\"data row7 col0\" >12</td>\n",
       "                        <td id=\"T_916e7090_092f_11eb_9e87_40ec99bba629row7_col1\" class=\"data row7 col1\" >2.08%</td>\n",
       "            </tr>\n",
       "    </tbody></table>"
      ],
      "text/plain": [
       "<pandas.io.formats.style.Styler at 0x18349b066a0>"
      ]
     },
     "execution_count": 28,
     "metadata": {},
     "output_type": "execute_result"
    }
   ],
   "source": [
    "# Age Demographics\n",
    "\n",
    "# Establish bins for ages\n",
    "age_bins = [0, 9.90, 14.90, 19.90, 24.90, 29.90, 34.90, 39.90, 99999]\n",
    "group_names = [\"<10\", \"10-14\", \"15-19\", \"20-24\", \"25-29\", \"30-34\", \"35-39\", \"40+\"]\n",
    "\n",
    "# Segment and sort age values into bins established above\n",
    "purchase_data[\"Age Group\"] = pd.cut(purchase_data[\"Age\"],age_bins, labels=group_names)\n",
    "purchase_data\n",
    "\n",
    "# Create new data frame with the added \"Age Group\" and group it\n",
    "age_grouped = purchase_data.groupby(\"Age Group\")\n",
    "\n",
    "# Count total players by age category\n",
    "total_count_age = age_grouped[\"SN\"].nunique()\n",
    "\n",
    "# Calculate percentages by age category \n",
    "percentage_by_age = (total_count_age/total_num_players) * 100\n",
    "\n",
    "# Create data frame with obtained values\n",
    "age_demographics = pd.DataFrame({\"Total Count\": total_count_age, \"Percentage of Players\": percentage_by_age})\n",
    "\n",
    "# Formatting\n",
    "age_demographics.index.name = None\n",
    "age_demographics.style.format({\"Percentage of Players\":\"{:,.2f}%\"})"
   ]
  },
  {
   "cell_type": "code",
   "execution_count": 29,
   "metadata": {},
   "outputs": [
    {
     "data": {
      "text/html": [
       "<style  type=\"text/css\" >\n",
       "</style><table id=\"T_93b94ce8_092f_11eb_b5a4_40ec99bba629\" ><thead>    <tr>        <th class=\"blank level0\" ></th>        <th class=\"col_heading level0 col0\" >Purchase Count</th>        <th class=\"col_heading level0 col1\" >Average Purchase Price</th>        <th class=\"col_heading level0 col2\" >Total Purchase Value</th>        <th class=\"col_heading level0 col3\" >Average Purchase Total per Person</th>    </tr></thead><tbody>\n",
       "                <tr>\n",
       "                        <th id=\"T_93b94ce8_092f_11eb_b5a4_40ec99bba629level0_row0\" class=\"row_heading level0 row0\" ><10</th>\n",
       "                        <td id=\"T_93b94ce8_092f_11eb_b5a4_40ec99bba629row0_col0\" class=\"data row0 col0\" >23</td>\n",
       "                        <td id=\"T_93b94ce8_092f_11eb_b5a4_40ec99bba629row0_col1\" class=\"data row0 col1\" >$3.35</td>\n",
       "                        <td id=\"T_93b94ce8_092f_11eb_b5a4_40ec99bba629row0_col2\" class=\"data row0 col2\" >$77.13</td>\n",
       "                        <td id=\"T_93b94ce8_092f_11eb_b5a4_40ec99bba629row0_col3\" class=\"data row0 col3\" >$4.54</td>\n",
       "            </tr>\n",
       "            <tr>\n",
       "                        <th id=\"T_93b94ce8_092f_11eb_b5a4_40ec99bba629level0_row1\" class=\"row_heading level0 row1\" >10-14</th>\n",
       "                        <td id=\"T_93b94ce8_092f_11eb_b5a4_40ec99bba629row1_col0\" class=\"data row1 col0\" >28</td>\n",
       "                        <td id=\"T_93b94ce8_092f_11eb_b5a4_40ec99bba629row1_col1\" class=\"data row1 col1\" >$2.96</td>\n",
       "                        <td id=\"T_93b94ce8_092f_11eb_b5a4_40ec99bba629row1_col2\" class=\"data row1 col2\" >$82.78</td>\n",
       "                        <td id=\"T_93b94ce8_092f_11eb_b5a4_40ec99bba629row1_col3\" class=\"data row1 col3\" >$3.76</td>\n",
       "            </tr>\n",
       "            <tr>\n",
       "                        <th id=\"T_93b94ce8_092f_11eb_b5a4_40ec99bba629level0_row2\" class=\"row_heading level0 row2\" >15-19</th>\n",
       "                        <td id=\"T_93b94ce8_092f_11eb_b5a4_40ec99bba629row2_col0\" class=\"data row2 col0\" >136</td>\n",
       "                        <td id=\"T_93b94ce8_092f_11eb_b5a4_40ec99bba629row2_col1\" class=\"data row2 col1\" >$3.04</td>\n",
       "                        <td id=\"T_93b94ce8_092f_11eb_b5a4_40ec99bba629row2_col2\" class=\"data row2 col2\" >$412.89</td>\n",
       "                        <td id=\"T_93b94ce8_092f_11eb_b5a4_40ec99bba629row2_col3\" class=\"data row2 col3\" >$3.86</td>\n",
       "            </tr>\n",
       "            <tr>\n",
       "                        <th id=\"T_93b94ce8_092f_11eb_b5a4_40ec99bba629level0_row3\" class=\"row_heading level0 row3\" >20-24</th>\n",
       "                        <td id=\"T_93b94ce8_092f_11eb_b5a4_40ec99bba629row3_col0\" class=\"data row3 col0\" >365</td>\n",
       "                        <td id=\"T_93b94ce8_092f_11eb_b5a4_40ec99bba629row3_col1\" class=\"data row3 col1\" >$3.05</td>\n",
       "                        <td id=\"T_93b94ce8_092f_11eb_b5a4_40ec99bba629row3_col2\" class=\"data row3 col2\" >$1,114.06</td>\n",
       "                        <td id=\"T_93b94ce8_092f_11eb_b5a4_40ec99bba629row3_col3\" class=\"data row3 col3\" >$4.32</td>\n",
       "            </tr>\n",
       "            <tr>\n",
       "                        <th id=\"T_93b94ce8_092f_11eb_b5a4_40ec99bba629level0_row4\" class=\"row_heading level0 row4\" >25-29</th>\n",
       "                        <td id=\"T_93b94ce8_092f_11eb_b5a4_40ec99bba629row4_col0\" class=\"data row4 col0\" >101</td>\n",
       "                        <td id=\"T_93b94ce8_092f_11eb_b5a4_40ec99bba629row4_col1\" class=\"data row4 col1\" >$2.90</td>\n",
       "                        <td id=\"T_93b94ce8_092f_11eb_b5a4_40ec99bba629row4_col2\" class=\"data row4 col2\" >$293.00</td>\n",
       "                        <td id=\"T_93b94ce8_092f_11eb_b5a4_40ec99bba629row4_col3\" class=\"data row4 col3\" >$3.81</td>\n",
       "            </tr>\n",
       "            <tr>\n",
       "                        <th id=\"T_93b94ce8_092f_11eb_b5a4_40ec99bba629level0_row5\" class=\"row_heading level0 row5\" >30-34</th>\n",
       "                        <td id=\"T_93b94ce8_092f_11eb_b5a4_40ec99bba629row5_col0\" class=\"data row5 col0\" >73</td>\n",
       "                        <td id=\"T_93b94ce8_092f_11eb_b5a4_40ec99bba629row5_col1\" class=\"data row5 col1\" >$2.93</td>\n",
       "                        <td id=\"T_93b94ce8_092f_11eb_b5a4_40ec99bba629row5_col2\" class=\"data row5 col2\" >$214.00</td>\n",
       "                        <td id=\"T_93b94ce8_092f_11eb_b5a4_40ec99bba629row5_col3\" class=\"data row5 col3\" >$4.12</td>\n",
       "            </tr>\n",
       "            <tr>\n",
       "                        <th id=\"T_93b94ce8_092f_11eb_b5a4_40ec99bba629level0_row6\" class=\"row_heading level0 row6\" >35-39</th>\n",
       "                        <td id=\"T_93b94ce8_092f_11eb_b5a4_40ec99bba629row6_col0\" class=\"data row6 col0\" >41</td>\n",
       "                        <td id=\"T_93b94ce8_092f_11eb_b5a4_40ec99bba629row6_col1\" class=\"data row6 col1\" >$3.60</td>\n",
       "                        <td id=\"T_93b94ce8_092f_11eb_b5a4_40ec99bba629row6_col2\" class=\"data row6 col2\" >$147.67</td>\n",
       "                        <td id=\"T_93b94ce8_092f_11eb_b5a4_40ec99bba629row6_col3\" class=\"data row6 col3\" >$4.76</td>\n",
       "            </tr>\n",
       "            <tr>\n",
       "                        <th id=\"T_93b94ce8_092f_11eb_b5a4_40ec99bba629level0_row7\" class=\"row_heading level0 row7\" >40+</th>\n",
       "                        <td id=\"T_93b94ce8_092f_11eb_b5a4_40ec99bba629row7_col0\" class=\"data row7 col0\" >13</td>\n",
       "                        <td id=\"T_93b94ce8_092f_11eb_b5a4_40ec99bba629row7_col1\" class=\"data row7 col1\" >$2.94</td>\n",
       "                        <td id=\"T_93b94ce8_092f_11eb_b5a4_40ec99bba629row7_col2\" class=\"data row7 col2\" >$38.24</td>\n",
       "                        <td id=\"T_93b94ce8_092f_11eb_b5a4_40ec99bba629row7_col3\" class=\"data row7 col3\" >$3.19</td>\n",
       "            </tr>\n",
       "    </tbody></table>"
      ],
      "text/plain": [
       "<pandas.io.formats.style.Styler at 0x18349b06710>"
      ]
     },
     "execution_count": 29,
     "metadata": {},
     "output_type": "execute_result"
    }
   ],
   "source": [
    "# Purchasing Analysis (Age)\n",
    "\n",
    "# Count purchases by age group\n",
    "purchase_count_age = age_grouped[\"Purchase ID\"].count()\n",
    "\n",
    "# Obtain average purchase price by age group \n",
    "avg_purchase_price_age = age_grouped[\"Price\"].mean()\n",
    "\n",
    "# Calculate total purchase value by age group \n",
    "total_purchase_value = age_grouped[\"Price\"].sum()\n",
    "\n",
    "# Calculate the average purchase per person in the age group \n",
    "avg_purchase_per_person_age = total_purchase_value/total_count_age\n",
    "\n",
    "# Create dataframe with obtained values\n",
    "age_demographics = pd.DataFrame({\"Purchase Count\": purchase_count_age,\n",
    "                                 \"Average Purchase Price\": avg_purchase_price_age,\n",
    "                                 \"Total Purchase Value\":total_purchase_value,\n",
    "                                 \"Average Purchase Total per Person\": avg_purchase_per_person_age})\n",
    "\n",
    "# Formatting\n",
    "age_demographics.index.name = None\n",
    "\n",
    "age_demographics.style.format({\"Average Purchase Price\":\"${:,.2f}\",\n",
    "                               \"Total Purchase Value\":\"${:,.2f}\",\n",
    "                               \"Average Purchase Total per Person\":\"${:,.2f}\"})"
   ]
  },
  {
   "cell_type": "code",
   "execution_count": 107,
   "metadata": {},
   "outputs": [
    {
     "data": {
      "text/html": [
       "<style  type=\"text/css\" >\n",
       "</style><table id=\"T_050c2aa8_085a_11eb_ad12_40ec99bba629\" ><thead>    <tr>        <th class=\"blank level0\" ></th>        <th class=\"col_heading level0 col0\" >Purchase Count</th>        <th class=\"col_heading level0 col1\" >Average Purchase Price</th>        <th class=\"col_heading level0 col2\" >Total Purchase Value</th>    </tr>    <tr>        <th class=\"index_name level0\" >SN</th>        <th class=\"blank\" ></th>        <th class=\"blank\" ></th>        <th class=\"blank\" ></th>    </tr></thead><tbody>\n",
       "                <tr>\n",
       "                        <th id=\"T_050c2aa8_085a_11eb_ad12_40ec99bba629level0_row0\" class=\"row_heading level0 row0\" >Lisosia93</th>\n",
       "                        <td id=\"T_050c2aa8_085a_11eb_ad12_40ec99bba629row0_col0\" class=\"data row0 col0\" >5</td>\n",
       "                        <td id=\"T_050c2aa8_085a_11eb_ad12_40ec99bba629row0_col1\" class=\"data row0 col1\" >$3.79</td>\n",
       "                        <td id=\"T_050c2aa8_085a_11eb_ad12_40ec99bba629row0_col2\" class=\"data row0 col2\" >$18.96</td>\n",
       "            </tr>\n",
       "            <tr>\n",
       "                        <th id=\"T_050c2aa8_085a_11eb_ad12_40ec99bba629level0_row1\" class=\"row_heading level0 row1\" >Idastidru52</th>\n",
       "                        <td id=\"T_050c2aa8_085a_11eb_ad12_40ec99bba629row1_col0\" class=\"data row1 col0\" >4</td>\n",
       "                        <td id=\"T_050c2aa8_085a_11eb_ad12_40ec99bba629row1_col1\" class=\"data row1 col1\" >$3.86</td>\n",
       "                        <td id=\"T_050c2aa8_085a_11eb_ad12_40ec99bba629row1_col2\" class=\"data row1 col2\" >$15.45</td>\n",
       "            </tr>\n",
       "            <tr>\n",
       "                        <th id=\"T_050c2aa8_085a_11eb_ad12_40ec99bba629level0_row2\" class=\"row_heading level0 row2\" >Chamjask73</th>\n",
       "                        <td id=\"T_050c2aa8_085a_11eb_ad12_40ec99bba629row2_col0\" class=\"data row2 col0\" >3</td>\n",
       "                        <td id=\"T_050c2aa8_085a_11eb_ad12_40ec99bba629row2_col1\" class=\"data row2 col1\" >$4.61</td>\n",
       "                        <td id=\"T_050c2aa8_085a_11eb_ad12_40ec99bba629row2_col2\" class=\"data row2 col2\" >$13.83</td>\n",
       "            </tr>\n",
       "            <tr>\n",
       "                        <th id=\"T_050c2aa8_085a_11eb_ad12_40ec99bba629level0_row3\" class=\"row_heading level0 row3\" >Iral74</th>\n",
       "                        <td id=\"T_050c2aa8_085a_11eb_ad12_40ec99bba629row3_col0\" class=\"data row3 col0\" >4</td>\n",
       "                        <td id=\"T_050c2aa8_085a_11eb_ad12_40ec99bba629row3_col1\" class=\"data row3 col1\" >$3.40</td>\n",
       "                        <td id=\"T_050c2aa8_085a_11eb_ad12_40ec99bba629row3_col2\" class=\"data row3 col2\" >$13.62</td>\n",
       "            </tr>\n",
       "            <tr>\n",
       "                        <th id=\"T_050c2aa8_085a_11eb_ad12_40ec99bba629level0_row4\" class=\"row_heading level0 row4\" >Iskadarya95</th>\n",
       "                        <td id=\"T_050c2aa8_085a_11eb_ad12_40ec99bba629row4_col0\" class=\"data row4 col0\" >3</td>\n",
       "                        <td id=\"T_050c2aa8_085a_11eb_ad12_40ec99bba629row4_col1\" class=\"data row4 col1\" >$4.37</td>\n",
       "                        <td id=\"T_050c2aa8_085a_11eb_ad12_40ec99bba629row4_col2\" class=\"data row4 col2\" >$13.10</td>\n",
       "            </tr>\n",
       "    </tbody></table>"
      ],
      "text/plain": [
       "<pandas.io.formats.style.Styler at 0x238b4211f60>"
      ]
     },
     "execution_count": 107,
     "metadata": {},
     "output_type": "execute_result"
    }
   ],
   "source": [
    "# Top Spenders\n",
    "\n",
    "# Group purchase data by screen names\n",
    "spender_stats = purchase_data.groupby(\"SN\")\n",
    "\n",
    "# Count the total purchases by name\n",
    "purchase_count_spender = spender_stats[\"Purchase ID\"].count()\n",
    "\n",
    "# Calculate the average purchase by name \n",
    "avg_purchase_price_spender = spender_stats[\"Price\"].mean()\n",
    "\n",
    "# Calculate purchase total \n",
    "purchase_total_spender = spender_stats[\"Price\"].sum()\n",
    "\n",
    "# Create data frame with obtained values\n",
    "top_spenders = pd.DataFrame({\"Purchase Count\": purchase_count_spender,\n",
    "                             \"Average Purchase Price\": avg_purchase_price_spender,\n",
    "                             \"Total Purchase Value\":purchase_total_spender})\n",
    "\n",
    "# Sort in descending order to obtain top 5 spender names \n",
    "formatted_spenders = top_spenders.sort_values([\"Total Purchase Value\"], ascending=False).head()\n",
    "\n",
    "# Formatting\n",
    "formatted_spenders.style.format({\"Average Purchase Total\":\"${:,.2f}\",\n",
    "                                 \"Average Purchase Price\":\"${:,.2f}\", \n",
    "                                 \"Total Purchase Value\":\"${:,.2f}\"})"
   ]
  },
  {
   "cell_type": "code",
   "execution_count": 11,
   "metadata": {},
   "outputs": [
    {
     "data": {
      "text/html": [
       "<style  type=\"text/css\" >\n",
       "</style><table id=\"T_d2cf5068_092d_11eb_a09a_40ec99bba629\" ><thead>    <tr>        <th class=\"blank\" ></th>        <th class=\"blank level0\" ></th>        <th class=\"col_heading level0 col0\" >Purchase Count</th>        <th class=\"col_heading level0 col1\" >Item Price</th>        <th class=\"col_heading level0 col2\" >Total Purchase Value</th>    </tr>    <tr>        <th class=\"index_name level0\" >Item ID</th>        <th class=\"index_name level1\" >Item Name</th>        <th class=\"blank\" ></th>        <th class=\"blank\" ></th>        <th class=\"blank\" ></th>    </tr></thead><tbody>\n",
       "                <tr>\n",
       "                        <th id=\"T_d2cf5068_092d_11eb_a09a_40ec99bba629level0_row0\" class=\"row_heading level0 row0\" >92</th>\n",
       "                        <th id=\"T_d2cf5068_092d_11eb_a09a_40ec99bba629level1_row0\" class=\"row_heading level1 row0\" >Final Critic</th>\n",
       "                        <td id=\"T_d2cf5068_092d_11eb_a09a_40ec99bba629row0_col0\" class=\"data row0 col0\" >13</td>\n",
       "                        <td id=\"T_d2cf5068_092d_11eb_a09a_40ec99bba629row0_col1\" class=\"data row0 col1\" >$4.61</td>\n",
       "                        <td id=\"T_d2cf5068_092d_11eb_a09a_40ec99bba629row0_col2\" class=\"data row0 col2\" >$59.99</td>\n",
       "            </tr>\n",
       "            <tr>\n",
       "                        <th id=\"T_d2cf5068_092d_11eb_a09a_40ec99bba629level0_row1\" class=\"row_heading level0 row1\" >178</th>\n",
       "                        <th id=\"T_d2cf5068_092d_11eb_a09a_40ec99bba629level1_row1\" class=\"row_heading level1 row1\" >Oathbreaker, Last Hope of the Breaking Storm</th>\n",
       "                        <td id=\"T_d2cf5068_092d_11eb_a09a_40ec99bba629row1_col0\" class=\"data row1 col0\" >12</td>\n",
       "                        <td id=\"T_d2cf5068_092d_11eb_a09a_40ec99bba629row1_col1\" class=\"data row1 col1\" >$4.23</td>\n",
       "                        <td id=\"T_d2cf5068_092d_11eb_a09a_40ec99bba629row1_col2\" class=\"data row1 col2\" >$50.76</td>\n",
       "            </tr>\n",
       "            <tr>\n",
       "                        <th id=\"T_d2cf5068_092d_11eb_a09a_40ec99bba629level0_row2\" class=\"row_heading level0 row2\" >145</th>\n",
       "                        <th id=\"T_d2cf5068_092d_11eb_a09a_40ec99bba629level1_row2\" class=\"row_heading level1 row2\" >Fiery Glass Crusader</th>\n",
       "                        <td id=\"T_d2cf5068_092d_11eb_a09a_40ec99bba629row2_col0\" class=\"data row2 col0\" >9</td>\n",
       "                        <td id=\"T_d2cf5068_092d_11eb_a09a_40ec99bba629row2_col1\" class=\"data row2 col1\" >$4.58</td>\n",
       "                        <td id=\"T_d2cf5068_092d_11eb_a09a_40ec99bba629row2_col2\" class=\"data row2 col2\" >$41.22</td>\n",
       "            </tr>\n",
       "            <tr>\n",
       "                        <th id=\"T_d2cf5068_092d_11eb_a09a_40ec99bba629level0_row3\" class=\"row_heading level0 row3\" >132</th>\n",
       "                        <th id=\"T_d2cf5068_092d_11eb_a09a_40ec99bba629level1_row3\" class=\"row_heading level1 row3\" >Persuasion</th>\n",
       "                        <td id=\"T_d2cf5068_092d_11eb_a09a_40ec99bba629row3_col0\" class=\"data row3 col0\" >9</td>\n",
       "                        <td id=\"T_d2cf5068_092d_11eb_a09a_40ec99bba629row3_col1\" class=\"data row3 col1\" >$3.22</td>\n",
       "                        <td id=\"T_d2cf5068_092d_11eb_a09a_40ec99bba629row3_col2\" class=\"data row3 col2\" >$28.99</td>\n",
       "            </tr>\n",
       "            <tr>\n",
       "                        <th id=\"T_d2cf5068_092d_11eb_a09a_40ec99bba629level0_row4\" class=\"row_heading level0 row4\" >108</th>\n",
       "                        <th id=\"T_d2cf5068_092d_11eb_a09a_40ec99bba629level1_row4\" class=\"row_heading level1 row4\" >Extraction, Quickblade Of Trembling Hands</th>\n",
       "                        <td id=\"T_d2cf5068_092d_11eb_a09a_40ec99bba629row4_col0\" class=\"data row4 col0\" >9</td>\n",
       "                        <td id=\"T_d2cf5068_092d_11eb_a09a_40ec99bba629row4_col1\" class=\"data row4 col1\" >$3.53</td>\n",
       "                        <td id=\"T_d2cf5068_092d_11eb_a09a_40ec99bba629row4_col2\" class=\"data row4 col2\" >$31.77</td>\n",
       "            </tr>\n",
       "    </tbody></table>"
      ],
      "text/plain": [
       "<pandas.io.formats.style.Styler at 0x18344822358>"
      ]
     },
     "execution_count": 11,
     "metadata": {},
     "output_type": "execute_result"
    }
   ],
   "source": [
    "# Most Popular Items\n",
    "\n",
    "# Create new data frame with items related information \n",
    "items = purchase_data[[\"Item ID\", \"Item Name\", \"Price\"]]\n",
    "\n",
    "# Group the item data by item id and item name \n",
    "item_stats = items.groupby([\"Item ID\",\"Item Name\"])\n",
    "\n",
    "# Count the number of times an item has been purchased \n",
    "purchase_count_item = item_stats[\"Price\"].count()\n",
    "\n",
    "# Calcualte the purchase value per item \n",
    "purchase_value = (item_stats[\"Price\"].sum()) \n",
    "\n",
    "# Find individual item price\n",
    "item_price = purchase_value/purchase_count_item\n",
    "\n",
    "# Create data frame with obtained values\n",
    "most_popular_items = pd.DataFrame({\"Purchase Count\": purchase_count_item, \n",
    "                                   \"Item Price\": item_price,\n",
    "                                   \"Total Purchase Value\":purchase_value})\n",
    "\n",
    "# Sort in descending order to obtain top spender names and provide top 5 item names\n",
    "popular_formatted = most_popular_items.sort_values([\"Purchase Count\"], ascending=False).head()\n",
    "\n",
    "# Formatting\n",
    "popular_formatted.style.format({\"Item Price\":\"${:,.2f}\",\n",
    "                                \"Total Purchase Value\":\"${:,.2f}\"})"
   ]
  },
  {
   "cell_type": "code",
   "execution_count": 109,
   "metadata": {},
   "outputs": [
    {
     "data": {
      "text/html": [
       "<style  type=\"text/css\" >\n",
       "</style><table id=\"T_0ec10ac6_085a_11eb_8160_40ec99bba629\" ><thead>    <tr>        <th class=\"blank\" ></th>        <th class=\"blank level0\" ></th>        <th class=\"col_heading level0 col0\" >Purchase Count</th>        <th class=\"col_heading level0 col1\" >Item Price</th>        <th class=\"col_heading level0 col2\" >Total Purchase Value</th>    </tr>    <tr>        <th class=\"index_name level0\" >Item ID</th>        <th class=\"index_name level1\" >Item Name</th>        <th class=\"blank\" ></th>        <th class=\"blank\" ></th>        <th class=\"blank\" ></th>    </tr></thead><tbody>\n",
       "                <tr>\n",
       "                        <th id=\"T_0ec10ac6_085a_11eb_8160_40ec99bba629level0_row0\" class=\"row_heading level0 row0\" >92</th>\n",
       "                        <th id=\"T_0ec10ac6_085a_11eb_8160_40ec99bba629level1_row0\" class=\"row_heading level1 row0\" >Final Critic</th>\n",
       "                        <td id=\"T_0ec10ac6_085a_11eb_8160_40ec99bba629row0_col0\" class=\"data row0 col0\" >13</td>\n",
       "                        <td id=\"T_0ec10ac6_085a_11eb_8160_40ec99bba629row0_col1\" class=\"data row0 col1\" >$4.61</td>\n",
       "                        <td id=\"T_0ec10ac6_085a_11eb_8160_40ec99bba629row0_col2\" class=\"data row0 col2\" >$59.99</td>\n",
       "            </tr>\n",
       "            <tr>\n",
       "                        <th id=\"T_0ec10ac6_085a_11eb_8160_40ec99bba629level0_row1\" class=\"row_heading level0 row1\" >178</th>\n",
       "                        <th id=\"T_0ec10ac6_085a_11eb_8160_40ec99bba629level1_row1\" class=\"row_heading level1 row1\" >Oathbreaker, Last Hope of the Breaking Storm</th>\n",
       "                        <td id=\"T_0ec10ac6_085a_11eb_8160_40ec99bba629row1_col0\" class=\"data row1 col0\" >12</td>\n",
       "                        <td id=\"T_0ec10ac6_085a_11eb_8160_40ec99bba629row1_col1\" class=\"data row1 col1\" >$4.23</td>\n",
       "                        <td id=\"T_0ec10ac6_085a_11eb_8160_40ec99bba629row1_col2\" class=\"data row1 col2\" >$50.76</td>\n",
       "            </tr>\n",
       "            <tr>\n",
       "                        <th id=\"T_0ec10ac6_085a_11eb_8160_40ec99bba629level0_row2\" class=\"row_heading level0 row2\" >82</th>\n",
       "                        <th id=\"T_0ec10ac6_085a_11eb_8160_40ec99bba629level1_row2\" class=\"row_heading level1 row2\" >Nirvana</th>\n",
       "                        <td id=\"T_0ec10ac6_085a_11eb_8160_40ec99bba629row2_col0\" class=\"data row2 col0\" >9</td>\n",
       "                        <td id=\"T_0ec10ac6_085a_11eb_8160_40ec99bba629row2_col1\" class=\"data row2 col1\" >$4.90</td>\n",
       "                        <td id=\"T_0ec10ac6_085a_11eb_8160_40ec99bba629row2_col2\" class=\"data row2 col2\" >$44.10</td>\n",
       "            </tr>\n",
       "            <tr>\n",
       "                        <th id=\"T_0ec10ac6_085a_11eb_8160_40ec99bba629level0_row3\" class=\"row_heading level0 row3\" >145</th>\n",
       "                        <th id=\"T_0ec10ac6_085a_11eb_8160_40ec99bba629level1_row3\" class=\"row_heading level1 row3\" >Fiery Glass Crusader</th>\n",
       "                        <td id=\"T_0ec10ac6_085a_11eb_8160_40ec99bba629row3_col0\" class=\"data row3 col0\" >9</td>\n",
       "                        <td id=\"T_0ec10ac6_085a_11eb_8160_40ec99bba629row3_col1\" class=\"data row3 col1\" >$4.58</td>\n",
       "                        <td id=\"T_0ec10ac6_085a_11eb_8160_40ec99bba629row3_col2\" class=\"data row3 col2\" >$41.22</td>\n",
       "            </tr>\n",
       "            <tr>\n",
       "                        <th id=\"T_0ec10ac6_085a_11eb_8160_40ec99bba629level0_row4\" class=\"row_heading level0 row4\" >103</th>\n",
       "                        <th id=\"T_0ec10ac6_085a_11eb_8160_40ec99bba629level1_row4\" class=\"row_heading level1 row4\" >Singed Scalpel</th>\n",
       "                        <td id=\"T_0ec10ac6_085a_11eb_8160_40ec99bba629row4_col0\" class=\"data row4 col0\" >8</td>\n",
       "                        <td id=\"T_0ec10ac6_085a_11eb_8160_40ec99bba629row4_col1\" class=\"data row4 col1\" >$4.35</td>\n",
       "                        <td id=\"T_0ec10ac6_085a_11eb_8160_40ec99bba629row4_col2\" class=\"data row4 col2\" >$34.80</td>\n",
       "            </tr>\n",
       "    </tbody></table>"
      ],
      "text/plain": [
       "<pandas.io.formats.style.Styler at 0x238b41e3978>"
      ]
     },
     "execution_count": 109,
     "metadata": {},
     "output_type": "execute_result"
    }
   ],
   "source": [
    "# Most Profitable Items\n",
    "\n",
    "# Take the most_popular items data frame and change the sorting to find highest total purchase value\n",
    "popular_formatted = most_popular_items.sort_values([\"Total Purchase Value\"], ascending=False).head()\n",
    "\n",
    "# Formatting\n",
    "popular_formatted.style.format({\"Item Price\":\"${:,.2f}\",\n",
    "                                \"Total Purchase Value\":\"${:,.2f}\"})"
   ]
  },
  {
   "cell_type": "code",
   "execution_count": null,
   "metadata": {},
   "outputs": [],
   "source": []
  }
 ],
 "metadata": {
  "kernelspec": {
   "display_name": "Python 3",
   "language": "python",
   "name": "python3"
  },
  "language_info": {
   "codemirror_mode": {
    "name": "ipython",
    "version": 3
   },
   "file_extension": ".py",
   "mimetype": "text/x-python",
   "name": "python",
   "nbconvert_exporter": "python",
   "pygments_lexer": "ipython3",
   "version": "3.6.12"
  }
 },
 "nbformat": 4,
 "nbformat_minor": 4
}
