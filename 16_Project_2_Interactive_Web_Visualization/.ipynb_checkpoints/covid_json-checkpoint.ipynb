{
 "cells": [
  {
   "cell_type": "code",
   "execution_count": 207,
   "metadata": {},
   "outputs": [],
   "source": [
    "# import dependencies \n",
    "import pandas as pd\n",
    "import datetime as dt\n",
    "from datetime import datetime\n",
    "import numpy as np\n",
    "from config import pg_password\n",
    "from sqlalchemy import create_engine"
   ]
  },
  {
   "cell_type": "markdown",
   "metadata": {},
   "source": [
    "## Read in data using pd.read_csv()"
   ]
  },
  {
   "cell_type": "code",
   "execution_count": 208,
   "metadata": {},
   "outputs": [
    {
     "data": {
      "text/html": [
       "<div>\n",
       "<style scoped>\n",
       "    .dataframe tbody tr th:only-of-type {\n",
       "        vertical-align: middle;\n",
       "    }\n",
       "\n",
       "    .dataframe tbody tr th {\n",
       "        vertical-align: top;\n",
       "    }\n",
       "\n",
       "    .dataframe thead th {\n",
       "        text-align: right;\n",
       "    }\n",
       "</style>\n",
       "<table border=\"1\" class=\"dataframe\">\n",
       "  <thead>\n",
       "    <tr style=\"text-align: right;\">\n",
       "      <th></th>\n",
       "      <th>date</th>\n",
       "      <th>county</th>\n",
       "      <th>state</th>\n",
       "      <th>fips</th>\n",
       "      <th>cases</th>\n",
       "      <th>deaths</th>\n",
       "    </tr>\n",
       "  </thead>\n",
       "  <tbody>\n",
       "    <tr>\n",
       "      <th>0</th>\n",
       "      <td>2020-01-21</td>\n",
       "      <td>Snohomish</td>\n",
       "      <td>Washington</td>\n",
       "      <td>53061.0</td>\n",
       "      <td>1</td>\n",
       "      <td>0.0</td>\n",
       "    </tr>\n",
       "    <tr>\n",
       "      <th>1</th>\n",
       "      <td>2020-01-22</td>\n",
       "      <td>Snohomish</td>\n",
       "      <td>Washington</td>\n",
       "      <td>53061.0</td>\n",
       "      <td>1</td>\n",
       "      <td>0.0</td>\n",
       "    </tr>\n",
       "    <tr>\n",
       "      <th>2</th>\n",
       "      <td>2020-01-23</td>\n",
       "      <td>Snohomish</td>\n",
       "      <td>Washington</td>\n",
       "      <td>53061.0</td>\n",
       "      <td>1</td>\n",
       "      <td>0.0</td>\n",
       "    </tr>\n",
       "    <tr>\n",
       "      <th>3</th>\n",
       "      <td>2020-01-24</td>\n",
       "      <td>Cook</td>\n",
       "      <td>Illinois</td>\n",
       "      <td>17031.0</td>\n",
       "      <td>1</td>\n",
       "      <td>0.0</td>\n",
       "    </tr>\n",
       "    <tr>\n",
       "      <th>4</th>\n",
       "      <td>2020-01-24</td>\n",
       "      <td>Snohomish</td>\n",
       "      <td>Washington</td>\n",
       "      <td>53061.0</td>\n",
       "      <td>1</td>\n",
       "      <td>0.0</td>\n",
       "    </tr>\n",
       "  </tbody>\n",
       "</table>\n",
       "</div>"
      ],
      "text/plain": [
       "         date     county       state     fips  cases  deaths\n",
       "0  2020-01-21  Snohomish  Washington  53061.0      1     0.0\n",
       "1  2020-01-22  Snohomish  Washington  53061.0      1     0.0\n",
       "2  2020-01-23  Snohomish  Washington  53061.0      1     0.0\n",
       "3  2020-01-24       Cook    Illinois  17031.0      1     0.0\n",
       "4  2020-01-24  Snohomish  Washington  53061.0      1     0.0"
      ]
     },
     "execution_count": 208,
     "metadata": {},
     "output_type": "execute_result"
    }
   ],
   "source": [
    "# Read in csv\n",
    "covid_data_df = pd.read_csv(r\"us-counties.csv\")\n",
    "covid_data_df.head()"
   ]
  },
  {
   "cell_type": "code",
   "execution_count": 209,
   "metadata": {},
   "outputs": [
    {
     "data": {
      "text/html": [
       "<div>\n",
       "<style scoped>\n",
       "    .dataframe tbody tr th:only-of-type {\n",
       "        vertical-align: middle;\n",
       "    }\n",
       "\n",
       "    .dataframe tbody tr th {\n",
       "        vertical-align: top;\n",
       "    }\n",
       "\n",
       "    .dataframe thead th {\n",
       "        text-align: right;\n",
       "    }\n",
       "</style>\n",
       "<table border=\"1\" class=\"dataframe\">\n",
       "  <thead>\n",
       "    <tr style=\"text-align: right;\">\n",
       "      <th></th>\n",
       "      <th>Geo Point</th>\n",
       "      <th>Geo Shape</th>\n",
       "      <th>STATEFP</th>\n",
       "      <th>COUNTYFP</th>\n",
       "      <th>COUNTYNS</th>\n",
       "      <th>GEOID</th>\n",
       "      <th>NAME</th>\n",
       "      <th>NAMELSAD</th>\n",
       "      <th>STUSAB</th>\n",
       "      <th>LSAD</th>\n",
       "      <th>...</th>\n",
       "      <th>CSAFP</th>\n",
       "      <th>CBSAFP</th>\n",
       "      <th>METDIVFP</th>\n",
       "      <th>FUNCSTAT</th>\n",
       "      <th>ALAND</th>\n",
       "      <th>AWATER</th>\n",
       "      <th>INTPTLAT</th>\n",
       "      <th>INTPTLON</th>\n",
       "      <th>STATE_NAME</th>\n",
       "      <th>COUNTYFP NOZERO</th>\n",
       "    </tr>\n",
       "  </thead>\n",
       "  <tbody>\n",
       "    <tr>\n",
       "      <th>0</th>\n",
       "      <td>36.5111268089, -117.410789686</td>\n",
       "      <td>{\"type\": \"Polygon\", \"coordinates\": [[[-118.337...</td>\n",
       "      <td>6</td>\n",
       "      <td>27</td>\n",
       "      <td>1804637</td>\n",
       "      <td>6027</td>\n",
       "      <td>Inyo</td>\n",
       "      <td>Inyo County</td>\n",
       "      <td>CA</td>\n",
       "      <td>6</td>\n",
       "      <td>...</td>\n",
       "      <td>NaN</td>\n",
       "      <td>NaN</td>\n",
       "      <td>NaN</td>\n",
       "      <td>A</td>\n",
       "      <td>26410680788</td>\n",
       "      <td>76915743</td>\n",
       "      <td>36.561977</td>\n",
       "      <td>-117.403927</td>\n",
       "      <td>California</td>\n",
       "      <td>27</td>\n",
       "    </tr>\n",
       "    <tr>\n",
       "      <th>1</th>\n",
       "      <td>37.9233794475, -121.951073113</td>\n",
       "      <td>{\"type\": \"Polygon\", \"coordinates\": [[[-122.267...</td>\n",
       "      <td>6</td>\n",
       "      <td>13</td>\n",
       "      <td>1675903</td>\n",
       "      <td>6013</td>\n",
       "      <td>Contra Costa</td>\n",
       "      <td>Contra Costa County</td>\n",
       "      <td>CA</td>\n",
       "      <td>6</td>\n",
       "      <td>...</td>\n",
       "      <td>488.0</td>\n",
       "      <td>41860.0</td>\n",
       "      <td>36084.0</td>\n",
       "      <td>A</td>\n",
       "      <td>1857229826</td>\n",
       "      <td>225285866</td>\n",
       "      <td>37.919479</td>\n",
       "      <td>-121.951543</td>\n",
       "      <td>California</td>\n",
       "      <td>13</td>\n",
       "    </tr>\n",
       "    <tr>\n",
       "      <th>2</th>\n",
       "      <td>38.5972506332, -119.82065303</td>\n",
       "      <td>{\"type\": \"Polygon\", \"coordinates\": [[[-120.073...</td>\n",
       "      <td>6</td>\n",
       "      <td>3</td>\n",
       "      <td>1675840</td>\n",
       "      <td>6003</td>\n",
       "      <td>Alpine</td>\n",
       "      <td>Alpine County</td>\n",
       "      <td>CA</td>\n",
       "      <td>6</td>\n",
       "      <td>...</td>\n",
       "      <td>NaN</td>\n",
       "      <td>NaN</td>\n",
       "      <td>NaN</td>\n",
       "      <td>A</td>\n",
       "      <td>1912292608</td>\n",
       "      <td>12557304</td>\n",
       "      <td>38.621783</td>\n",
       "      <td>-119.798352</td>\n",
       "      <td>California</td>\n",
       "      <td>3</td>\n",
       "    </tr>\n",
       "    <tr>\n",
       "      <th>3</th>\n",
       "      <td>40.7050090829, -123.915819446</td>\n",
       "      <td>{\"type\": \"Polygon\", \"coordinates\": [[[-124.281...</td>\n",
       "      <td>6</td>\n",
       "      <td>23</td>\n",
       "      <td>1681908</td>\n",
       "      <td>6023</td>\n",
       "      <td>Humboldt</td>\n",
       "      <td>Humboldt County</td>\n",
       "      <td>CA</td>\n",
       "      <td>6</td>\n",
       "      <td>...</td>\n",
       "      <td>NaN</td>\n",
       "      <td>21700.0</td>\n",
       "      <td>NaN</td>\n",
       "      <td>A</td>\n",
       "      <td>9241426488</td>\n",
       "      <td>1253864712</td>\n",
       "      <td>40.706655</td>\n",
       "      <td>-123.926176</td>\n",
       "      <td>California</td>\n",
       "      <td>23</td>\n",
       "    </tr>\n",
       "    <tr>\n",
       "      <th>4</th>\n",
       "      <td>39.0345595213, -121.694849665</td>\n",
       "      <td>{\"type\": \"Polygon\", \"coordinates\": [[[-121.928...</td>\n",
       "      <td>6</td>\n",
       "      <td>101</td>\n",
       "      <td>277315</td>\n",
       "      <td>6101</td>\n",
       "      <td>Sutter</td>\n",
       "      <td>Sutter County</td>\n",
       "      <td>CA</td>\n",
       "      <td>6</td>\n",
       "      <td>...</td>\n",
       "      <td>472.0</td>\n",
       "      <td>49700.0</td>\n",
       "      <td>NaN</td>\n",
       "      <td>A</td>\n",
       "      <td>1560546528</td>\n",
       "      <td>15240591</td>\n",
       "      <td>39.036190</td>\n",
       "      <td>-121.703940</td>\n",
       "      <td>California</td>\n",
       "      <td>101</td>\n",
       "    </tr>\n",
       "  </tbody>\n",
       "</table>\n",
       "<p>5 rows × 22 columns</p>\n",
       "</div>"
      ],
      "text/plain": [
       "                       Geo Point  \\\n",
       "0  36.5111268089, -117.410789686   \n",
       "1  37.9233794475, -121.951073113   \n",
       "2   38.5972506332, -119.82065303   \n",
       "3  40.7050090829, -123.915819446   \n",
       "4  39.0345595213, -121.694849665   \n",
       "\n",
       "                                           Geo Shape  STATEFP  COUNTYFP  \\\n",
       "0  {\"type\": \"Polygon\", \"coordinates\": [[[-118.337...        6        27   \n",
       "1  {\"type\": \"Polygon\", \"coordinates\": [[[-122.267...        6        13   \n",
       "2  {\"type\": \"Polygon\", \"coordinates\": [[[-120.073...        6         3   \n",
       "3  {\"type\": \"Polygon\", \"coordinates\": [[[-124.281...        6        23   \n",
       "4  {\"type\": \"Polygon\", \"coordinates\": [[[-121.928...        6       101   \n",
       "\n",
       "   COUNTYNS  GEOID          NAME             NAMELSAD STUSAB  LSAD  ...  \\\n",
       "0   1804637   6027          Inyo          Inyo County     CA     6  ...   \n",
       "1   1675903   6013  Contra Costa  Contra Costa County     CA     6  ...   \n",
       "2   1675840   6003        Alpine        Alpine County     CA     6  ...   \n",
       "3   1681908   6023      Humboldt      Humboldt County     CA     6  ...   \n",
       "4    277315   6101        Sutter        Sutter County     CA     6  ...   \n",
       "\n",
       "   CSAFP   CBSAFP  METDIVFP  FUNCSTAT        ALAND      AWATER   INTPTLAT  \\\n",
       "0    NaN      NaN       NaN         A  26410680788    76915743  36.561977   \n",
       "1  488.0  41860.0   36084.0         A   1857229826   225285866  37.919479   \n",
       "2    NaN      NaN       NaN         A   1912292608    12557304  38.621783   \n",
       "3    NaN  21700.0       NaN         A   9241426488  1253864712  40.706655   \n",
       "4  472.0  49700.0       NaN         A   1560546528    15240591  39.036190   \n",
       "\n",
       "     INTPTLON  STATE_NAME  COUNTYFP NOZERO  \n",
       "0 -117.403927  California               27  \n",
       "1 -121.951543  California               13  \n",
       "2 -119.798352  California                3  \n",
       "3 -123.926176  California               23  \n",
       "4 -121.703940  California              101  \n",
       "\n",
       "[5 rows x 22 columns]"
      ]
     },
     "execution_count": 209,
     "metadata": {},
     "output_type": "execute_result"
    }
   ],
   "source": [
    "# Read in csv with Geolocation data of each county in US\n",
    "geo_ca_df = pd.read_csv(r\"us_cities_with_longitude,latitude_data/us-county-boundaries.csv\")\n",
    "geo_ca_df.head()"
   ]
  },
  {
   "cell_type": "markdown",
   "metadata": {},
   "source": [
    "## Check DataFrame values\n",
    "- Total date values\n",
    "- Earliest date\n",
    "- Latest date\n",
    "    "
   ]
  },
  {
   "cell_type": "code",
   "execution_count": 210,
   "metadata": {},
   "outputs": [
    {
     "data": {
      "text/plain": [
       "369"
      ]
     },
     "execution_count": 210,
     "metadata": {},
     "output_type": "execute_result"
    }
   ],
   "source": [
    "# Identify total date nunique() values\n",
    "covid_data_df['date'].nunique()"
   ]
  },
  {
   "cell_type": "code",
   "execution_count": 211,
   "metadata": {},
   "outputs": [
    {
     "data": {
      "text/plain": [
       "'2020-01-21'"
      ]
     },
     "execution_count": 211,
     "metadata": {},
     "output_type": "execute_result"
    }
   ],
   "source": [
    "# Identify min() date range\n",
    "covid_data_df['date'].min()"
   ]
  },
  {
   "cell_type": "code",
   "execution_count": 212,
   "metadata": {},
   "outputs": [
    {
     "data": {
      "text/plain": [
       "'2021-01-23'"
      ]
     },
     "execution_count": 212,
     "metadata": {},
     "output_type": "execute_result"
    }
   ],
   "source": [
    "# Identify max() date range\n",
    "covid_data_df['date'].max()"
   ]
  },
  {
   "cell_type": "markdown",
   "metadata": {},
   "source": [
    "## Clean and Transform Data\n",
    "- Format date from string to_datetime\n",
    "- Gather data for only California\n",
    "- Gather data for only 2020"
   ]
  },
  {
   "cell_type": "code",
   "execution_count": 213,
   "metadata": {},
   "outputs": [
    {
     "data": {
      "text/html": [
       "<div>\n",
       "<style scoped>\n",
       "    .dataframe tbody tr th:only-of-type {\n",
       "        vertical-align: middle;\n",
       "    }\n",
       "\n",
       "    .dataframe tbody tr th {\n",
       "        vertical-align: top;\n",
       "    }\n",
       "\n",
       "    .dataframe thead th {\n",
       "        text-align: right;\n",
       "    }\n",
       "</style>\n",
       "<table border=\"1\" class=\"dataframe\">\n",
       "  <thead>\n",
       "    <tr style=\"text-align: right;\">\n",
       "      <th></th>\n",
       "      <th>date</th>\n",
       "      <th>county</th>\n",
       "      <th>state</th>\n",
       "      <th>fips</th>\n",
       "      <th>cases</th>\n",
       "      <th>deaths</th>\n",
       "    </tr>\n",
       "  </thead>\n",
       "  <tbody>\n",
       "    <tr>\n",
       "      <th>0</th>\n",
       "      <td>2020-01-21</td>\n",
       "      <td>Snohomish</td>\n",
       "      <td>Washington</td>\n",
       "      <td>53061.0</td>\n",
       "      <td>1</td>\n",
       "      <td>0.0</td>\n",
       "    </tr>\n",
       "    <tr>\n",
       "      <th>1</th>\n",
       "      <td>2020-01-22</td>\n",
       "      <td>Snohomish</td>\n",
       "      <td>Washington</td>\n",
       "      <td>53061.0</td>\n",
       "      <td>1</td>\n",
       "      <td>0.0</td>\n",
       "    </tr>\n",
       "    <tr>\n",
       "      <th>2</th>\n",
       "      <td>2020-01-23</td>\n",
       "      <td>Snohomish</td>\n",
       "      <td>Washington</td>\n",
       "      <td>53061.0</td>\n",
       "      <td>1</td>\n",
       "      <td>0.0</td>\n",
       "    </tr>\n",
       "    <tr>\n",
       "      <th>3</th>\n",
       "      <td>2020-01-24</td>\n",
       "      <td>Cook</td>\n",
       "      <td>Illinois</td>\n",
       "      <td>17031.0</td>\n",
       "      <td>1</td>\n",
       "      <td>0.0</td>\n",
       "    </tr>\n",
       "    <tr>\n",
       "      <th>4</th>\n",
       "      <td>2020-01-24</td>\n",
       "      <td>Snohomish</td>\n",
       "      <td>Washington</td>\n",
       "      <td>53061.0</td>\n",
       "      <td>1</td>\n",
       "      <td>0.0</td>\n",
       "    </tr>\n",
       "  </tbody>\n",
       "</table>\n",
       "</div>"
      ],
      "text/plain": [
       "        date     county       state     fips  cases  deaths\n",
       "0 2020-01-21  Snohomish  Washington  53061.0      1     0.0\n",
       "1 2020-01-22  Snohomish  Washington  53061.0      1     0.0\n",
       "2 2020-01-23  Snohomish  Washington  53061.0      1     0.0\n",
       "3 2020-01-24       Cook    Illinois  17031.0      1     0.0\n",
       "4 2020-01-24  Snohomish  Washington  53061.0      1     0.0"
      ]
     },
     "execution_count": 213,
     "metadata": {},
     "output_type": "execute_result"
    }
   ],
   "source": [
    "# convert date column from string to datetime\n",
    "covid_data_df['date'] = pd.to_datetime(covid_data_df['date'], format='%Y/%m/%d')\n",
    "covid_data_df.head()"
   ]
  },
  {
   "cell_type": "code",
   "execution_count": 214,
   "metadata": {},
   "outputs": [
    {
     "data": {
      "text/html": [
       "<div>\n",
       "<style scoped>\n",
       "    .dataframe tbody tr th:only-of-type {\n",
       "        vertical-align: middle;\n",
       "    }\n",
       "\n",
       "    .dataframe tbody tr th {\n",
       "        vertical-align: top;\n",
       "    }\n",
       "\n",
       "    .dataframe thead th {\n",
       "        text-align: right;\n",
       "    }\n",
       "</style>\n",
       "<table border=\"1\" class=\"dataframe\">\n",
       "  <thead>\n",
       "    <tr style=\"text-align: right;\">\n",
       "      <th></th>\n",
       "      <th>date</th>\n",
       "      <th>county</th>\n",
       "      <th>state</th>\n",
       "      <th>fips</th>\n",
       "      <th>cases</th>\n",
       "      <th>deaths</th>\n",
       "    </tr>\n",
       "  </thead>\n",
       "  <tbody>\n",
       "    <tr>\n",
       "      <th>5</th>\n",
       "      <td>2020-01-25</td>\n",
       "      <td>Orange</td>\n",
       "      <td>California</td>\n",
       "      <td>6059.0</td>\n",
       "      <td>1</td>\n",
       "      <td>0.0</td>\n",
       "    </tr>\n",
       "    <tr>\n",
       "      <th>9</th>\n",
       "      <td>2020-01-26</td>\n",
       "      <td>Los Angeles</td>\n",
       "      <td>California</td>\n",
       "      <td>6037.0</td>\n",
       "      <td>1</td>\n",
       "      <td>0.0</td>\n",
       "    </tr>\n",
       "    <tr>\n",
       "      <th>10</th>\n",
       "      <td>2020-01-26</td>\n",
       "      <td>Orange</td>\n",
       "      <td>California</td>\n",
       "      <td>6059.0</td>\n",
       "      <td>1</td>\n",
       "      <td>0.0</td>\n",
       "    </tr>\n",
       "    <tr>\n",
       "      <th>14</th>\n",
       "      <td>2020-01-27</td>\n",
       "      <td>Los Angeles</td>\n",
       "      <td>California</td>\n",
       "      <td>6037.0</td>\n",
       "      <td>1</td>\n",
       "      <td>0.0</td>\n",
       "    </tr>\n",
       "    <tr>\n",
       "      <th>15</th>\n",
       "      <td>2020-01-27</td>\n",
       "      <td>Orange</td>\n",
       "      <td>California</td>\n",
       "      <td>6059.0</td>\n",
       "      <td>1</td>\n",
       "      <td>0.0</td>\n",
       "    </tr>\n",
       "  </tbody>\n",
       "</table>\n",
       "</div>"
      ],
      "text/plain": [
       "         date       county       state    fips  cases  deaths\n",
       "5  2020-01-25       Orange  California  6059.0      1     0.0\n",
       "9  2020-01-26  Los Angeles  California  6037.0      1     0.0\n",
       "10 2020-01-26       Orange  California  6059.0      1     0.0\n",
       "14 2020-01-27  Los Angeles  California  6037.0      1     0.0\n",
       "15 2020-01-27       Orange  California  6059.0      1     0.0"
      ]
     },
     "execution_count": 214,
     "metadata": {},
     "output_type": "execute_result"
    }
   ],
   "source": [
    "# Create dataFrame for only California \n",
    "covid_cali_df = covid_data_df.loc[covid_data_df[\"state\"] == \"California\"] \n",
    "covid_cali_df.head()"
   ]
  },
  {
   "cell_type": "code",
   "execution_count": 215,
   "metadata": {},
   "outputs": [
    {
     "data": {
      "text/plain": [
       "array(['Orange', 'Los Angeles', 'Santa Clara', 'San Francisco',\n",
       "       'San Diego', 'Humboldt', 'Sacramento', 'Solano', 'Marin', 'Napa',\n",
       "       'Sonoma', 'Alameda', 'Placer', 'San Mateo', 'Contra Costa', 'Yolo',\n",
       "       'Fresno', 'Madera', 'Riverside', 'Santa Cruz', 'Shasta',\n",
       "       'San Joaquin', 'Ventura', 'Stanislaus', 'Tulare', 'San Benito',\n",
       "       'San Luis Obispo', 'San Bernardino', 'Santa Barbara', 'Nevada',\n",
       "       'Kern', 'Monterey', 'Mendocino', 'Amador', 'Imperial', 'Butte',\n",
       "       'El Dorado', 'Siskiyou', 'Yuba', 'Unknown', 'Calaveras', 'Merced',\n",
       "       'Mono', 'Inyo', 'Sutter', 'Colusa', 'Kings', 'Glenn', 'Tuolumne',\n",
       "       'Alpine', 'Plumas', 'Del Norte', 'Tehama', 'Lake', 'Mariposa',\n",
       "       'Trinity', 'Sierra', 'Lassen', 'Modoc'], dtype=object)"
      ]
     },
     "execution_count": 215,
     "metadata": {},
     "output_type": "execute_result"
    }
   ],
   "source": [
    "# Get county names \n",
    "covid_cali_df.county.unique()"
   ]
  },
  {
   "cell_type": "code",
   "execution_count": 216,
   "metadata": {},
   "outputs": [
    {
     "data": {
      "text/html": [
       "<div>\n",
       "<style scoped>\n",
       "    .dataframe tbody tr th:only-of-type {\n",
       "        vertical-align: middle;\n",
       "    }\n",
       "\n",
       "    .dataframe tbody tr th {\n",
       "        vertical-align: top;\n",
       "    }\n",
       "\n",
       "    .dataframe thead th {\n",
       "        text-align: right;\n",
       "    }\n",
       "</style>\n",
       "<table border=\"1\" class=\"dataframe\">\n",
       "  <thead>\n",
       "    <tr style=\"text-align: right;\">\n",
       "      <th></th>\n",
       "      <th>date</th>\n",
       "      <th>county</th>\n",
       "      <th>state</th>\n",
       "      <th>fips</th>\n",
       "      <th>cases</th>\n",
       "      <th>deaths</th>\n",
       "    </tr>\n",
       "  </thead>\n",
       "  <tbody>\n",
       "    <tr>\n",
       "      <th>5</th>\n",
       "      <td>2020-01-25</td>\n",
       "      <td>Orange</td>\n",
       "      <td>California</td>\n",
       "      <td>6059.0</td>\n",
       "      <td>1</td>\n",
       "      <td>0.0</td>\n",
       "    </tr>\n",
       "    <tr>\n",
       "      <th>9</th>\n",
       "      <td>2020-01-26</td>\n",
       "      <td>Los Angeles</td>\n",
       "      <td>California</td>\n",
       "      <td>6037.0</td>\n",
       "      <td>1</td>\n",
       "      <td>0.0</td>\n",
       "    </tr>\n",
       "    <tr>\n",
       "      <th>10</th>\n",
       "      <td>2020-01-26</td>\n",
       "      <td>Orange</td>\n",
       "      <td>California</td>\n",
       "      <td>6059.0</td>\n",
       "      <td>1</td>\n",
       "      <td>0.0</td>\n",
       "    </tr>\n",
       "    <tr>\n",
       "      <th>14</th>\n",
       "      <td>2020-01-27</td>\n",
       "      <td>Los Angeles</td>\n",
       "      <td>California</td>\n",
       "      <td>6037.0</td>\n",
       "      <td>1</td>\n",
       "      <td>0.0</td>\n",
       "    </tr>\n",
       "    <tr>\n",
       "      <th>15</th>\n",
       "      <td>2020-01-27</td>\n",
       "      <td>Orange</td>\n",
       "      <td>California</td>\n",
       "      <td>6059.0</td>\n",
       "      <td>1</td>\n",
       "      <td>0.0</td>\n",
       "    </tr>\n",
       "  </tbody>\n",
       "</table>\n",
       "</div>"
      ],
      "text/plain": [
       "         date       county       state    fips  cases  deaths\n",
       "5  2020-01-25       Orange  California  6059.0      1     0.0\n",
       "9  2020-01-26  Los Angeles  California  6037.0      1     0.0\n",
       "10 2020-01-26       Orange  California  6059.0      1     0.0\n",
       "14 2020-01-27  Los Angeles  California  6037.0      1     0.0\n",
       "15 2020-01-27       Orange  California  6059.0      1     0.0"
      ]
     },
     "execution_count": 216,
     "metadata": {},
     "output_type": "execute_result"
    }
   ],
   "source": [
    "# Clean data -  remove 'unknown'\n",
    "clean_covid_df = covid_cali_df[covid_cali_df.county != 'Unknown']\n",
    "clean_covid_df.head()"
   ]
  },
  {
   "cell_type": "code",
   "execution_count": 217,
   "metadata": {},
   "outputs": [
    {
     "data": {
      "text/plain": [
       "58"
      ]
     },
     "execution_count": 217,
     "metadata": {},
     "output_type": "execute_result"
    }
   ],
   "source": [
    "# # Confirm that only 58 counties in California\n",
    "clean_covid_df.county.nunique()"
   ]
  },
  {
   "cell_type": "code",
   "execution_count": 218,
   "metadata": {},
   "outputs": [
    {
     "data": {
      "text/html": [
       "<div>\n",
       "<style scoped>\n",
       "    .dataframe tbody tr th:only-of-type {\n",
       "        vertical-align: middle;\n",
       "    }\n",
       "\n",
       "    .dataframe tbody tr th {\n",
       "        vertical-align: top;\n",
       "    }\n",
       "\n",
       "    .dataframe thead th {\n",
       "        text-align: right;\n",
       "    }\n",
       "</style>\n",
       "<table border=\"1\" class=\"dataframe\">\n",
       "  <thead>\n",
       "    <tr style=\"text-align: right;\">\n",
       "      <th></th>\n",
       "      <th>date</th>\n",
       "      <th>county</th>\n",
       "      <th>state</th>\n",
       "      <th>fips</th>\n",
       "      <th>cases</th>\n",
       "      <th>deaths</th>\n",
       "    </tr>\n",
       "  </thead>\n",
       "  <tbody>\n",
       "    <tr>\n",
       "      <th>5</th>\n",
       "      <td>2020-01-25</td>\n",
       "      <td>Orange</td>\n",
       "      <td>California</td>\n",
       "      <td>6059.0</td>\n",
       "      <td>1</td>\n",
       "      <td>0.0</td>\n",
       "    </tr>\n",
       "    <tr>\n",
       "      <th>9</th>\n",
       "      <td>2020-01-26</td>\n",
       "      <td>Los Angeles</td>\n",
       "      <td>California</td>\n",
       "      <td>6037.0</td>\n",
       "      <td>1</td>\n",
       "      <td>0.0</td>\n",
       "    </tr>\n",
       "    <tr>\n",
       "      <th>10</th>\n",
       "      <td>2020-01-26</td>\n",
       "      <td>Orange</td>\n",
       "      <td>California</td>\n",
       "      <td>6059.0</td>\n",
       "      <td>1</td>\n",
       "      <td>0.0</td>\n",
       "    </tr>\n",
       "    <tr>\n",
       "      <th>14</th>\n",
       "      <td>2020-01-27</td>\n",
       "      <td>Los Angeles</td>\n",
       "      <td>California</td>\n",
       "      <td>6037.0</td>\n",
       "      <td>1</td>\n",
       "      <td>0.0</td>\n",
       "    </tr>\n",
       "    <tr>\n",
       "      <th>15</th>\n",
       "      <td>2020-01-27</td>\n",
       "      <td>Orange</td>\n",
       "      <td>California</td>\n",
       "      <td>6059.0</td>\n",
       "      <td>1</td>\n",
       "      <td>0.0</td>\n",
       "    </tr>\n",
       "  </tbody>\n",
       "</table>\n",
       "</div>"
      ],
      "text/plain": [
       "         date       county       state    fips  cases  deaths\n",
       "5  2020-01-25       Orange  California  6059.0      1     0.0\n",
       "9  2020-01-26  Los Angeles  California  6037.0      1     0.0\n",
       "10 2020-01-26       Orange  California  6059.0      1     0.0\n",
       "14 2020-01-27  Los Angeles  California  6037.0      1     0.0\n",
       "15 2020-01-27       Orange  California  6059.0      1     0.0"
      ]
     },
     "execution_count": 218,
     "metadata": {},
     "output_type": "execute_result"
    }
   ],
   "source": [
    "covid_cali_2020_df = clean_covid_df.loc[clean_covid_df[\"date\"] < \"2021-01-01\"]\n",
    "covid_cali_2020_df.head()"
   ]
  },
  {
   "cell_type": "markdown",
   "metadata": {},
   "source": [
    "## Time"
   ]
  },
  {
   "cell_type": "code",
   "execution_count": 221,
   "metadata": {},
   "outputs": [],
   "source": [
    "# import time\n",
    "# import datetime\n",
    "\n",
    "# date_time = covid_cali_2020_df['date']\n",
    "# date_time_format = \"%Y-%m-%d %H:%M:%S\"\n",
    "# date_time\n",
    "\n",
    "# time_object = time.strptime(date_time, date_time_format)\n",
    "# epoch_timestamp = time.mktime(time_object)\n",
    "# epoch_timestamp"
   ]
  },
  {
   "cell_type": "code",
   "execution_count": 222,
   "metadata": {},
   "outputs": [],
   "source": [
    "# import time\n",
    "# import datetime\n",
    "# d = datetime.date(covid_cali_2020_df['date'])\n",
    "\n",
    "# covid_cali_2020_df['date'] = time.mktime(d.timetuple())\n",
    "# covid_cali_2020_df"
   ]
  },
  {
   "cell_type": "code",
   "execution_count": 223,
   "metadata": {},
   "outputs": [
    {
     "data": {
      "text/plain": [
       "342"
      ]
     },
     "execution_count": 223,
     "metadata": {},
     "output_type": "execute_result"
    }
   ],
   "source": [
    "# Identify date total nunique() total\n",
    "covid_cali_2020_df['date'].nunique()"
   ]
  },
  {
   "cell_type": "code",
   "execution_count": 224,
   "metadata": {},
   "outputs": [
    {
     "data": {
      "text/plain": [
       "Timestamp('2020-01-25 00:00:00')"
      ]
     },
     "execution_count": 224,
     "metadata": {},
     "output_type": "execute_result"
    }
   ],
   "source": [
    "# Identify earliest date\n",
    "covid_cali_2020_df['date'].min()"
   ]
  },
  {
   "cell_type": "code",
   "execution_count": 225,
   "metadata": {},
   "outputs": [
    {
     "data": {
      "text/plain": [
       "Timestamp('2020-12-31 00:00:00')"
      ]
     },
     "execution_count": 225,
     "metadata": {},
     "output_type": "execute_result"
    }
   ],
   "source": [
    "# Identify max() date to confirm it reflects 12-31-2020\n",
    "covid_cali_2020_df['date'].max()"
   ]
  },
  {
   "cell_type": "markdown",
   "metadata": {},
   "source": [
    "## Create DataFrames for specific viualization needs\n",
    "- cali only DataFrames grouped by date with cases total \n",
    "- socal only DataFrames grouped by county with cases total\n",
    "- nocal only DataFrames grouped by county wth cases total"
   ]
  },
  {
   "cell_type": "code",
<<<<<<< HEAD
   "execution_count": 20,
=======
   "execution_count": 226,
   "metadata": {},
   "outputs": [
    {
     "data": {
      "text/html": [
       "<div>\n",
       "<style scoped>\n",
       "    .dataframe tbody tr th:only-of-type {\n",
       "        vertical-align: middle;\n",
       "    }\n",
       "\n",
       "    .dataframe tbody tr th {\n",
       "        vertical-align: top;\n",
       "    }\n",
       "\n",
       "    .dataframe thead th {\n",
       "        text-align: right;\n",
       "    }\n",
       "</style>\n",
       "<table border=\"1\" class=\"dataframe\">\n",
       "  <thead>\n",
       "    <tr style=\"text-align: right;\">\n",
       "      <th></th>\n",
       "      <th>GEOID</th>\n",
       "      <th>NAME</th>\n",
       "      <th>INTPTLAT</th>\n",
       "      <th>INTPTLON</th>\n",
       "    </tr>\n",
       "  </thead>\n",
       "  <tbody>\n",
       "    <tr>\n",
       "      <th>0</th>\n",
       "      <td>6027</td>\n",
       "      <td>Inyo</td>\n",
       "      <td>36.561977</td>\n",
       "      <td>-117.403927</td>\n",
       "    </tr>\n",
       "    <tr>\n",
       "      <th>1</th>\n",
       "      <td>6013</td>\n",
       "      <td>Contra Costa</td>\n",
       "      <td>37.919479</td>\n",
       "      <td>-121.951543</td>\n",
       "    </tr>\n",
       "    <tr>\n",
       "      <th>2</th>\n",
       "      <td>6003</td>\n",
       "      <td>Alpine</td>\n",
       "      <td>38.621783</td>\n",
       "      <td>-119.798352</td>\n",
       "    </tr>\n",
       "    <tr>\n",
       "      <th>3</th>\n",
       "      <td>6023</td>\n",
       "      <td>Humboldt</td>\n",
       "      <td>40.706655</td>\n",
       "      <td>-123.926176</td>\n",
       "    </tr>\n",
       "    <tr>\n",
       "      <th>4</th>\n",
       "      <td>6101</td>\n",
       "      <td>Sutter</td>\n",
       "      <td>39.036190</td>\n",
       "      <td>-121.703940</td>\n",
       "    </tr>\n",
       "  </tbody>\n",
       "</table>\n",
       "</div>"
      ],
      "text/plain": [
       "   GEOID          NAME   INTPTLAT    INTPTLON\n",
       "0   6027          Inyo  36.561977 -117.403927\n",
       "1   6013  Contra Costa  37.919479 -121.951543\n",
       "2   6003        Alpine  38.621783 -119.798352\n",
       "3   6023      Humboldt  40.706655 -123.926176\n",
       "4   6101        Sutter  39.036190 -121.703940"
      ]
     },
     "execution_count": 226,
     "metadata": {},
     "output_type": "execute_result"
    }
   ],
   "source": [
    "# Get clean geo data\n",
    "new_geo_ca_df=geo_ca_df[[\"GEOID\", \"NAME\",\"INTPTLAT\",\"INTPTLON\"]]\n",
    "new_geo_ca_df.head()"
   ]
  },
  {
   "cell_type": "code",
   "execution_count": 229,
   "metadata": {},
   "outputs": [
    {
     "data": {
      "text/html": [
       "<div>\n",
       "<style scoped>\n",
       "    .dataframe tbody tr th:only-of-type {\n",
       "        vertical-align: middle;\n",
       "    }\n",
       "\n",
       "    .dataframe tbody tr th {\n",
       "        vertical-align: top;\n",
       "    }\n",
       "\n",
       "    .dataframe thead th {\n",
       "        text-align: right;\n",
       "    }\n",
       "</style>\n",
       "<table border=\"1\" class=\"dataframe\">\n",
       "  <thead>\n",
       "    <tr style=\"text-align: right;\">\n",
       "      <th></th>\n",
       "      <th>fips</th>\n",
       "      <th>county</th>\n",
       "      <th>latitude</th>\n",
       "      <th>longitude</th>\n",
       "    </tr>\n",
       "  </thead>\n",
       "  <tbody>\n",
       "    <tr>\n",
       "      <th>0</th>\n",
       "      <td>6027</td>\n",
       "      <td>Inyo</td>\n",
       "      <td>36.561977</td>\n",
       "      <td>-117.403927</td>\n",
       "    </tr>\n",
       "    <tr>\n",
       "      <th>1</th>\n",
       "      <td>6013</td>\n",
       "      <td>Contra Costa</td>\n",
       "      <td>37.919479</td>\n",
       "      <td>-121.951543</td>\n",
       "    </tr>\n",
       "    <tr>\n",
       "      <th>2</th>\n",
       "      <td>6003</td>\n",
       "      <td>Alpine</td>\n",
       "      <td>38.621783</td>\n",
       "      <td>-119.798352</td>\n",
       "    </tr>\n",
       "    <tr>\n",
       "      <th>3</th>\n",
       "      <td>6023</td>\n",
       "      <td>Humboldt</td>\n",
       "      <td>40.706655</td>\n",
       "      <td>-123.926176</td>\n",
       "    </tr>\n",
       "    <tr>\n",
       "      <th>4</th>\n",
       "      <td>6101</td>\n",
       "      <td>Sutter</td>\n",
       "      <td>39.036190</td>\n",
       "      <td>-121.703940</td>\n",
       "    </tr>\n",
       "  </tbody>\n",
       "</table>\n",
       "</div>"
      ],
      "text/plain": [
       "   fips        county   latitude   longitude\n",
       "0  6027          Inyo  36.561977 -117.403927\n",
       "1  6013  Contra Costa  37.919479 -121.951543\n",
       "2  6003        Alpine  38.621783 -119.798352\n",
       "3  6023      Humboldt  40.706655 -123.926176\n",
       "4  6101        Sutter  39.036190 -121.703940"
      ]
     },
     "execution_count": 229,
     "metadata": {},
     "output_type": "execute_result"
    }
   ],
   "source": [
    "clean_geo_ca_df=new_geo_ca_df.rename(columns={\"GEOID\": \"fips\",\n",
    "                                           \"NAME\": \"county\",\n",
    "                                          \"INTPTLAT\":\"latitude\",\n",
    "                                          \"INTPTLON\":\"longitude\"\n",
    "                                         })\n",
    "clean_geo_ca_df.head()"
   ]
  },
  {
   "cell_type": "code",
   "execution_count": 230,
   "metadata": {},
   "outputs": [
    {
     "data": {
      "text/plain": [
       "fips         58\n",
       "county       58\n",
       "latitude     58\n",
       "longitude    58\n",
       "dtype: int64"
      ]
     },
     "execution_count": 230,
     "metadata": {},
     "output_type": "execute_result"
    }
   ],
   "source": [
    "clean_geo_ca_df.nunique()"
   ]
  },
  {
   "cell_type": "code",
   "execution_count": 231,
   "metadata": {},
   "outputs": [
    {
     "data": {
      "text/plain": [
       "date      datetime64[ns]\n",
       "county            object\n",
       "state             object\n",
       "fips             float64\n",
       "cases              int64\n",
       "deaths           float64\n",
       "dtype: object"
      ]
     },
     "execution_count": 231,
     "metadata": {},
     "output_type": "execute_result"
    }
   ],
   "source": [
    "covid_cali_2020_df.dtypes"
   ]
  },
  {
   "cell_type": "code",
   "execution_count": 232,
>>>>>>> 6a92821d77e94aecbbb0a7fd419eb4ac9b326831
   "metadata": {},
   "outputs": [],
   "source": [
    "# group all of CA data by date\n",
    "cali_groupby_date_cases_df = covid_cali_2020_df.groupby('date')"
   ]
  },
  {
   "cell_type": "code",
<<<<<<< HEAD
   "execution_count": 21,
=======
   "execution_count": 233,
>>>>>>> 6a92821d77e94aecbbb0a7fd419eb4ac9b326831
   "metadata": {},
   "outputs": [
    {
     "data": {
      "text/plain": [
       "date\n",
       "2020-01-25    1\n",
       "2020-01-26    2\n",
       "2020-01-27    2\n",
       "2020-01-28    2\n",
       "2020-01-29    2\n",
       "Name: cases, dtype: int64"
      ]
     },
<<<<<<< HEAD
     "execution_count": 21,
=======
     "execution_count": 233,
>>>>>>> 6a92821d77e94aecbbb0a7fd419eb4ac9b326831
     "metadata": {},
     "output_type": "execute_result"
    }
   ],
   "source": [
    "# Get sum for cases by date\n",
    "cali_date_total = cali_groupby_date_cases_df['cases'].sum()\n",
    "# Confirm data is correct\n",
    "cali_date_total.head()"
   ]
  },
  {
   "cell_type": "code",
<<<<<<< HEAD
   "execution_count": 122,
=======
   "execution_count": 234,
>>>>>>> 6a92821d77e94aecbbb0a7fd419eb4ac9b326831
   "metadata": {},
   "outputs": [
    {
     "data": {
      "text/html": [
       "<div>\n",
       "<style scoped>\n",
       "    .dataframe tbody tr th:only-of-type {\n",
       "        vertical-align: middle;\n",
       "    }\n",
       "\n",
       "    .dataframe tbody tr th {\n",
       "        vertical-align: top;\n",
       "    }\n",
       "\n",
       "    .dataframe thead th {\n",
       "        text-align: right;\n",
       "    }\n",
       "</style>\n",
       "<table border=\"1\" class=\"dataframe\">\n",
       "  <thead>\n",
       "    <tr style=\"text-align: right;\">\n",
       "      <th></th>\n",
       "      <th>cases</th>\n",
       "    </tr>\n",
       "    <tr>\n",
       "      <th>date</th>\n",
       "      <th></th>\n",
       "    </tr>\n",
       "  </thead>\n",
       "  <tbody>\n",
       "    <tr>\n",
       "      <th>2020-01-25</th>\n",
       "      <td>1</td>\n",
       "    </tr>\n",
       "    <tr>\n",
       "      <th>2020-01-26</th>\n",
       "      <td>2</td>\n",
       "    </tr>\n",
       "    <tr>\n",
       "      <th>2020-01-27</th>\n",
       "      <td>2</td>\n",
       "    </tr>\n",
       "    <tr>\n",
       "      <th>2020-01-28</th>\n",
       "      <td>2</td>\n",
       "    </tr>\n",
       "    <tr>\n",
       "      <th>2020-01-29</th>\n",
       "      <td>2</td>\n",
       "    </tr>\n",
       "  </tbody>\n",
       "</table>\n",
       "</div>"
      ],
      "text/plain": [
       "            cases\n",
       "date             \n",
       "2020-01-25      1\n",
       "2020-01-26      2\n",
       "2020-01-27      2\n",
       "2020-01-28      2\n",
       "2020-01-29      2"
      ]
     },
<<<<<<< HEAD
     "execution_count": 122,
=======
     "execution_count": 234,
>>>>>>> 6a92821d77e94aecbbb0a7fd419eb4ac9b326831
     "metadata": {},
     "output_type": "execute_result"
    }
   ],
   "source": [
    "# Create series into DataFrame\n",
    "cali_date_total_df = pd.DataFrame(cali_date_total)\n",
    "cali_date_total_df.head()"
   ]
  },
  {
   "cell_type": "code",
<<<<<<< HEAD
   "execution_count": 123,
=======
   "execution_count": 235,
>>>>>>> 6a92821d77e94aecbbb0a7fd419eb4ac9b326831
   "metadata": {},
   "outputs": [
    {
     "data": {
      "text/plain": [
       "cases    342\n",
       "dtype: int64"
      ]
     },
<<<<<<< HEAD
     "execution_count": 123,
=======
     "execution_count": 235,
>>>>>>> 6a92821d77e94aecbbb0a7fd419eb4ac9b326831
     "metadata": {},
     "output_type": "execute_result"
    }
   ],
   "source": [
    "# Identify total day count\n",
    "cali_date_total_df.count()"
   ]
  },
  {
   "cell_type": "code",
<<<<<<< HEAD
   "execution_count": 124,
=======
   "execution_count": 236,
>>>>>>> 6a92821d77e94aecbbb0a7fd419eb4ac9b326831
   "metadata": {},
   "outputs": [
    {
     "data": {
      "text/html": [
       "<div>\n",
       "<style scoped>\n",
       "    .dataframe tbody tr th:only-of-type {\n",
       "        vertical-align: middle;\n",
       "    }\n",
       "\n",
       "    .dataframe tbody tr th {\n",
       "        vertical-align: top;\n",
       "    }\n",
       "\n",
       "    .dataframe thead th {\n",
       "        text-align: right;\n",
       "    }\n",
       "</style>\n",
       "<table border=\"1\" class=\"dataframe\">\n",
       "  <thead>\n",
       "    <tr style=\"text-align: right;\">\n",
       "      <th></th>\n",
       "      <th>date</th>\n",
       "      <th>county</th>\n",
       "      <th>state</th>\n",
       "      <th>fips</th>\n",
       "      <th>cases</th>\n",
       "      <th>deaths</th>\n",
       "    </tr>\n",
       "  </thead>\n",
       "  <tbody>\n",
       "    <tr>\n",
       "      <th>5</th>\n",
       "      <td>2020-01-25</td>\n",
       "      <td>Orange</td>\n",
       "      <td>California</td>\n",
       "      <td>6059.0</td>\n",
       "      <td>1</td>\n",
       "      <td>0.0</td>\n",
       "    </tr>\n",
       "    <tr>\n",
       "      <th>9</th>\n",
       "      <td>2020-01-26</td>\n",
       "      <td>Los Angeles</td>\n",
       "      <td>California</td>\n",
       "      <td>6037.0</td>\n",
       "      <td>1</td>\n",
       "      <td>0.0</td>\n",
       "    </tr>\n",
       "    <tr>\n",
       "      <th>10</th>\n",
       "      <td>2020-01-26</td>\n",
       "      <td>Orange</td>\n",
       "      <td>California</td>\n",
       "      <td>6059.0</td>\n",
       "      <td>1</td>\n",
       "      <td>0.0</td>\n",
       "    </tr>\n",
       "    <tr>\n",
       "      <th>14</th>\n",
       "      <td>2020-01-27</td>\n",
       "      <td>Los Angeles</td>\n",
       "      <td>California</td>\n",
       "      <td>6037.0</td>\n",
       "      <td>1</td>\n",
       "      <td>0.0</td>\n",
       "    </tr>\n",
       "    <tr>\n",
       "      <th>15</th>\n",
       "      <td>2020-01-27</td>\n",
       "      <td>Orange</td>\n",
       "      <td>California</td>\n",
       "      <td>6059.0</td>\n",
       "      <td>1</td>\n",
       "      <td>0.0</td>\n",
       "    </tr>\n",
       "  </tbody>\n",
       "</table>\n",
       "</div>"
      ],
      "text/plain": [
       "         date       county       state    fips  cases  deaths\n",
       "5  2020-01-25       Orange  California  6059.0      1     0.0\n",
       "9  2020-01-26  Los Angeles  California  6037.0      1     0.0\n",
       "10 2020-01-26       Orange  California  6059.0      1     0.0\n",
       "14 2020-01-27  Los Angeles  California  6037.0      1     0.0\n",
       "15 2020-01-27       Orange  California  6059.0      1     0.0"
      ]
     },
<<<<<<< HEAD
     "execution_count": 124,
=======
     "execution_count": 236,
>>>>>>> 6a92821d77e94aecbbb0a7fd419eb4ac9b326831
     "metadata": {},
     "output_type": "execute_result"
    }
   ],
   "source": [
    "# Create socalArray from dataFrame with socal counites only\n",
    "socalArray = [\"Inyo\", \"Kern\", \"San Luis Obispo\", \"Santa Barbara\", \"Ventura\", \"Los Angeles\", \"San Bernardino\", \"Orange\", \"Riverside\", \"San Diego\", \"Imperial\"]\n",
    "\n",
    "# Crating only socal_data_df by selecting cocal counties only\n",
    "socal_data_df = covid_cali_2020_df[covid_cali_2020_df[\"county\"].isin(socalArray)]\n",
    "socal_data_df.head()"
   ]
  },
  {
   "cell_type": "code",
<<<<<<< HEAD
   "execution_count": 125,
=======
   "execution_count": 237,
>>>>>>> 6a92821d77e94aecbbb0a7fd419eb4ac9b326831
   "metadata": {},
   "outputs": [
    {
     "data": {
      "text/plain": [
       "date       342\n",
       "county      11\n",
       "state        1\n",
       "fips        11\n",
       "cases     2633\n",
       "deaths    1040\n",
       "dtype: int64"
      ]
     },
<<<<<<< HEAD
     "execution_count": 125,
=======
     "execution_count": 237,
>>>>>>> 6a92821d77e94aecbbb0a7fd419eb4ac9b326831
     "metadata": {},
     "output_type": "execute_result"
    }
   ],
   "source": [
    "# Confirm that only the 11 socal counites are in dataFrame\n",
    "socal_data_df.nunique()"
   ]
  },
  {
   "cell_type": "code",
<<<<<<< HEAD
   "execution_count": 126,
=======
   "execution_count": 238,
>>>>>>> 6a92821d77e94aecbbb0a7fd419eb4ac9b326831
   "metadata": {},
   "outputs": [],
   "source": [
    "# Grouped socal by county\n",
    "grouped_socal_counties = socal_data_df.groupby('fips')"
   ]
  },
  {
   "cell_type": "code",
<<<<<<< HEAD
   "execution_count": 127,
=======
   "execution_count": 239,
>>>>>>> 6a92821d77e94aecbbb0a7fd419eb4ac9b326831
   "metadata": {},
   "outputs": [
    {
     "data": {
      "text/plain": [
<<<<<<< HEAD
       "fips\n",
       "6025.0     3043737\n",
       "6027.0       56686\n",
       "6029.0     7884109\n",
       "6037.0    81587695\n",
       "6059.0    16437080\n",
       "Name: cases, dtype: int64"
      ]
     },
     "execution_count": 127,
=======
       "county\n",
       "Imperial        2486469\n",
       "Inyo              39360\n",
       "Kern            6042885\n",
       "Los Angeles    59976957\n",
       "Orange         11731923\n",
       "Name: cases, dtype: int64"
      ]
     },
     "execution_count": 239,
>>>>>>> 6a92821d77e94aecbbb0a7fd419eb4ac9b326831
     "metadata": {},
     "output_type": "execute_result"
    }
   ],
   "source": [
    "# Get sum for cases by county\n",
    "grouped_socal_county_totals =  grouped_socal_counties['cases'].sum()\n",
    "grouped_socal_county_totals.head()"
   ]
  },
  {
   "cell_type": "code",
<<<<<<< HEAD
   "execution_count": 128,
=======
   "execution_count": 241,
>>>>>>> 6a92821d77e94aecbbb0a7fd419eb4ac9b326831
   "metadata": {},
   "outputs": [
    {
     "data": {
      "text/html": [
       "<div>\n",
       "<style scoped>\n",
       "    .dataframe tbody tr th:only-of-type {\n",
       "        vertical-align: middle;\n",
       "    }\n",
       "\n",
       "    .dataframe tbody tr th {\n",
       "        vertical-align: top;\n",
       "    }\n",
       "\n",
       "    .dataframe thead th {\n",
       "        text-align: right;\n",
       "    }\n",
       "</style>\n",
       "<table border=\"1\" class=\"dataframe\">\n",
       "  <thead>\n",
       "    <tr style=\"text-align: right;\">\n",
       "      <th></th>\n",
       "      <th>cases</th>\n",
       "    </tr>\n",
       "    <tr>\n",
       "      <th>fips</th>\n",
       "      <th></th>\n",
       "    </tr>\n",
       "  </thead>\n",
       "  <tbody>\n",
       "    <tr>\n",
<<<<<<< HEAD
       "      <th>6025.0</th>\n",
       "      <td>3043737</td>\n",
       "    </tr>\n",
       "    <tr>\n",
       "      <th>6027.0</th>\n",
       "      <td>56686</td>\n",
       "    </tr>\n",
       "    <tr>\n",
       "      <th>6029.0</th>\n",
       "      <td>7884109</td>\n",
       "    </tr>\n",
       "    <tr>\n",
       "      <th>6037.0</th>\n",
       "      <td>81587695</td>\n",
       "    </tr>\n",
       "    <tr>\n",
       "      <th>6059.0</th>\n",
       "      <td>16437080</td>\n",
=======
       "      <th>Imperial</th>\n",
       "      <td>2486469</td>\n",
       "    </tr>\n",
       "    <tr>\n",
       "      <th>Inyo</th>\n",
       "      <td>39360</td>\n",
       "    </tr>\n",
       "    <tr>\n",
       "      <th>Kern</th>\n",
       "      <td>6042885</td>\n",
       "    </tr>\n",
       "    <tr>\n",
       "      <th>Los Angeles</th>\n",
       "      <td>59976957</td>\n",
       "    </tr>\n",
       "    <tr>\n",
       "      <th>Orange</th>\n",
       "      <td>11731923</td>\n",
       "    </tr>\n",
       "    <tr>\n",
       "      <th>Riverside</th>\n",
       "      <td>12947120</td>\n",
       "    </tr>\n",
       "    <tr>\n",
       "      <th>San Bernardino</th>\n",
       "      <td>12451039</td>\n",
       "    </tr>\n",
       "    <tr>\n",
       "      <th>San Diego</th>\n",
       "      <td>10827207</td>\n",
       "    </tr>\n",
       "    <tr>\n",
       "      <th>San Luis Obispo</th>\n",
       "      <td>768331</td>\n",
       "    </tr>\n",
       "    <tr>\n",
       "      <th>Santa Barbara</th>\n",
       "      <td>1801476</td>\n",
       "    </tr>\n",
       "    <tr>\n",
       "      <th>Ventura</th>\n",
       "      <td>2713987</td>\n",
>>>>>>> 6a92821d77e94aecbbb0a7fd419eb4ac9b326831
       "    </tr>\n",
       "  </tbody>\n",
       "</table>\n",
       "</div>"
      ],
      "text/plain": [
<<<<<<< HEAD
       "           cases\n",
       "fips            \n",
       "6025.0   3043737\n",
       "6027.0     56686\n",
       "6029.0   7884109\n",
       "6037.0  81587695\n",
       "6059.0  16437080"
      ]
     },
     "execution_count": 128,
=======
       "                    cases\n",
       "county                   \n",
       "Imperial          2486469\n",
       "Inyo                39360\n",
       "Kern              6042885\n",
       "Los Angeles      59976957\n",
       "Orange           11731923\n",
       "Riverside        12947120\n",
       "San Bernardino   12451039\n",
       "San Diego        10827207\n",
       "San Luis Obispo    768331\n",
       "Santa Barbara     1801476\n",
       "Ventura           2713987"
      ]
     },
     "execution_count": 241,
>>>>>>> 6a92821d77e94aecbbb0a7fd419eb4ac9b326831
     "metadata": {},
     "output_type": "execute_result"
    }
   ],
   "source": [
    "grouped_socal_county_totals_df = pd.DataFrame(grouped_socal_county_totals)\n",
    "grouped_socal_county_totals_df"
   ]
  },
  {
   "cell_type": "code",
<<<<<<< HEAD
   "execution_count": 129,
=======
   "execution_count": 243,
   "metadata": {},
   "outputs": [
    {
     "data": {
      "text/html": [
       "<div>\n",
       "<style scoped>\n",
       "    .dataframe tbody tr th:only-of-type {\n",
       "        vertical-align: middle;\n",
       "    }\n",
       "\n",
       "    .dataframe tbody tr th {\n",
       "        vertical-align: top;\n",
       "    }\n",
       "\n",
       "    .dataframe thead th {\n",
       "        text-align: right;\n",
       "    }\n",
       "</style>\n",
       "<table border=\"1\" class=\"dataframe\">\n",
       "  <thead>\n",
       "    <tr style=\"text-align: right;\">\n",
       "      <th></th>\n",
       "      <th>county</th>\n",
       "      <th>cases</th>\n",
       "      <th>fips</th>\n",
       "      <th>latitude</th>\n",
       "      <th>longitude</th>\n",
       "    </tr>\n",
       "  </thead>\n",
       "  <tbody>\n",
       "    <tr>\n",
       "      <th>0</th>\n",
       "      <td>Imperial</td>\n",
       "      <td>2486469</td>\n",
       "      <td>6025</td>\n",
       "      <td>33.040814</td>\n",
       "      <td>-115.355400</td>\n",
       "    </tr>\n",
       "    <tr>\n",
       "      <th>1</th>\n",
       "      <td>Inyo</td>\n",
       "      <td>39360</td>\n",
       "      <td>6027</td>\n",
       "      <td>36.561977</td>\n",
       "      <td>-117.403927</td>\n",
       "    </tr>\n",
       "    <tr>\n",
       "      <th>2</th>\n",
       "      <td>Kern</td>\n",
       "      <td>6042885</td>\n",
       "      <td>6029</td>\n",
       "      <td>35.346629</td>\n",
       "      <td>-118.729506</td>\n",
       "    </tr>\n",
       "    <tr>\n",
       "      <th>3</th>\n",
       "      <td>Los Angeles</td>\n",
       "      <td>59976957</td>\n",
       "      <td>6037</td>\n",
       "      <td>34.196398</td>\n",
       "      <td>-118.261862</td>\n",
       "    </tr>\n",
       "    <tr>\n",
       "      <th>4</th>\n",
       "      <td>Orange</td>\n",
       "      <td>11731923</td>\n",
       "      <td>6059</td>\n",
       "      <td>33.675687</td>\n",
       "      <td>-117.777207</td>\n",
       "    </tr>\n",
       "    <tr>\n",
       "      <th>5</th>\n",
       "      <td>Riverside</td>\n",
       "      <td>12947120</td>\n",
       "      <td>6065</td>\n",
       "      <td>33.729827</td>\n",
       "      <td>-116.002239</td>\n",
       "    </tr>\n",
       "    <tr>\n",
       "      <th>6</th>\n",
       "      <td>San Bernardino</td>\n",
       "      <td>12451039</td>\n",
       "      <td>6071</td>\n",
       "      <td>34.857220</td>\n",
       "      <td>-116.181197</td>\n",
       "    </tr>\n",
       "    <tr>\n",
       "      <th>7</th>\n",
       "      <td>San Diego</td>\n",
       "      <td>10827207</td>\n",
       "      <td>6073</td>\n",
       "      <td>33.023604</td>\n",
       "      <td>-116.776117</td>\n",
       "    </tr>\n",
       "    <tr>\n",
       "      <th>8</th>\n",
       "      <td>San Luis Obispo</td>\n",
       "      <td>768331</td>\n",
       "      <td>6079</td>\n",
       "      <td>35.385224</td>\n",
       "      <td>-120.447545</td>\n",
       "    </tr>\n",
       "    <tr>\n",
       "      <th>9</th>\n",
       "      <td>Santa Barbara</td>\n",
       "      <td>1801476</td>\n",
       "      <td>6083</td>\n",
       "      <td>34.537057</td>\n",
       "      <td>-120.039973</td>\n",
       "    </tr>\n",
       "    <tr>\n",
       "      <th>10</th>\n",
       "      <td>Ventura</td>\n",
       "      <td>2713987</td>\n",
       "      <td>6111</td>\n",
       "      <td>34.358742</td>\n",
       "      <td>-119.133143</td>\n",
       "    </tr>\n",
       "  </tbody>\n",
       "</table>\n",
       "</div>"
      ],
      "text/plain": [
       "             county     cases  fips   latitude   longitude\n",
       "0          Imperial   2486469  6025  33.040814 -115.355400\n",
       "1              Inyo     39360  6027  36.561977 -117.403927\n",
       "2              Kern   6042885  6029  35.346629 -118.729506\n",
       "3       Los Angeles  59976957  6037  34.196398 -118.261862\n",
       "4            Orange  11731923  6059  33.675687 -117.777207\n",
       "5         Riverside  12947120  6065  33.729827 -116.002239\n",
       "6    San Bernardino  12451039  6071  34.857220 -116.181197\n",
       "7         San Diego  10827207  6073  33.023604 -116.776117\n",
       "8   San Luis Obispo    768331  6079  35.385224 -120.447545\n",
       "9     Santa Barbara   1801476  6083  34.537057 -120.039973\n",
       "10          Ventura   2713987  6111  34.358742 -119.133143"
      ]
     },
     "execution_count": 243,
     "metadata": {},
     "output_type": "execute_result"
    }
   ],
   "source": [
    "merge_socal_geo_df = pd.merge(grouped_socal_county_totals_df,clean_geo_ca_df, on=\"county\", how=\"inner\")\n",
    "merge_socal_geo_df"
   ]
  },
  {
   "cell_type": "code",
   "execution_count": 244,
>>>>>>> 6a92821d77e94aecbbb0a7fd419eb4ac9b326831
   "metadata": {},
   "outputs": [
    {
     "data": {
      "text/html": [
       "<div>\n",
       "<style scoped>\n",
       "    .dataframe tbody tr th:only-of-type {\n",
       "        vertical-align: middle;\n",
       "    }\n",
       "\n",
       "    .dataframe tbody tr th {\n",
       "        vertical-align: top;\n",
       "    }\n",
       "\n",
       "    .dataframe thead th {\n",
       "        text-align: right;\n",
       "    }\n",
       "</style>\n",
       "<table border=\"1\" class=\"dataframe\">\n",
       "  <thead>\n",
       "    <tr style=\"text-align: right;\">\n",
       "      <th></th>\n",
       "      <th>date</th>\n",
       "      <th>county</th>\n",
       "      <th>state</th>\n",
       "      <th>fips</th>\n",
       "      <th>cases</th>\n",
       "      <th>deaths</th>\n",
       "    </tr>\n",
       "  </thead>\n",
       "  <tbody>\n",
       "    <tr>\n",
       "      <th>36</th>\n",
       "      <td>2020-01-31</td>\n",
       "      <td>Santa Clara</td>\n",
       "      <td>California</td>\n",
       "      <td>6085.0</td>\n",
       "      <td>1</td>\n",
       "      <td>0.0</td>\n",
       "    </tr>\n",
       "    <tr>\n",
       "      <th>42</th>\n",
       "      <td>2020-02-01</td>\n",
       "      <td>Santa Clara</td>\n",
       "      <td>California</td>\n",
       "      <td>6085.0</td>\n",
       "      <td>1</td>\n",
       "      <td>0.0</td>\n",
       "    </tr>\n",
       "    <tr>\n",
       "      <th>49</th>\n",
       "      <td>2020-02-02</td>\n",
       "      <td>San Francisco</td>\n",
       "      <td>California</td>\n",
       "      <td>6075.0</td>\n",
       "      <td>2</td>\n",
       "      <td>0.0</td>\n",
       "    </tr>\n",
       "    <tr>\n",
       "      <th>50</th>\n",
       "      <td>2020-02-02</td>\n",
       "      <td>Santa Clara</td>\n",
       "      <td>California</td>\n",
       "      <td>6085.0</td>\n",
       "      <td>2</td>\n",
       "      <td>0.0</td>\n",
       "    </tr>\n",
       "    <tr>\n",
       "      <th>57</th>\n",
       "      <td>2020-02-03</td>\n",
       "      <td>San Francisco</td>\n",
       "      <td>California</td>\n",
       "      <td>6075.0</td>\n",
       "      <td>2</td>\n",
       "      <td>0.0</td>\n",
       "    </tr>\n",
       "  </tbody>\n",
       "</table>\n",
       "</div>"
      ],
      "text/plain": [
       "         date         county       state    fips  cases  deaths\n",
       "36 2020-01-31    Santa Clara  California  6085.0      1     0.0\n",
       "42 2020-02-01    Santa Clara  California  6085.0      1     0.0\n",
       "49 2020-02-02  San Francisco  California  6075.0      2     0.0\n",
       "50 2020-02-02    Santa Clara  California  6085.0      2     0.0\n",
       "57 2020-02-03  San Francisco  California  6075.0      2     0.0"
      ]
     },
<<<<<<< HEAD
     "execution_count": 129,
=======
     "execution_count": 244,
>>>>>>> 6a92821d77e94aecbbb0a7fd419eb4ac9b326831
     "metadata": {},
     "output_type": "execute_result"
    }
   ],
   "source": [
    "# Using socal_data_df, merge with clean_covid_cali_df and create duplicates for socal counties\n",
    "duplicates = pd.merge(clean_covid_df, socal_data_df, how= 'inner', left_on=['date', 'county'], right_on=['date', 'county'], left_index=True)\n",
    "\n",
    "# Use .drop duplicates on index to create nocal_data_df\n",
    "norcal_data_df = clean_covid_df.drop(duplicates.index)\n",
    "norcal_data_df.head()"
   ]
  },
  {
   "cell_type": "code",
<<<<<<< HEAD
   "execution_count": 130,
=======
   "execution_count": 249,
>>>>>>> 6a92821d77e94aecbbb0a7fd419eb4ac9b326831
   "metadata": {},
   "outputs": [
    {
     "data": {
      "text/plain": [
       "date       336\n",
       "county      47\n",
       "state        1\n",
       "fips        47\n",
       "cases     5084\n",
       "deaths     541\n",
       "dtype: int64"
      ]
     },
<<<<<<< HEAD
     "execution_count": 130,
=======
     "execution_count": 249,
>>>>>>> 6a92821d77e94aecbbb0a7fd419eb4ac9b326831
     "metadata": {},
     "output_type": "execute_result"
    }
   ],
   "source": [
    "# Confirm that only 47 counties for nocal\n",
    "norcal_data_df.nunique()"
   ]
  },
  {
   "cell_type": "code",
<<<<<<< HEAD
   "execution_count": 131,
=======
   "execution_count": 253,
>>>>>>> 6a92821d77e94aecbbb0a7fd419eb4ac9b326831
   "metadata": {},
   "outputs": [],
   "source": [
    "# Grouped norcal data by county\n",
    "grouped_norcal_county_df = norcal_data_df.groupby('fips')"
   ]
  },
  {
   "cell_type": "code",
<<<<<<< HEAD
   "execution_count": 132,
=======
   "execution_count": 251,
>>>>>>> 6a92821d77e94aecbbb0a7fd419eb4ac9b326831
   "metadata": {},
   "outputs": [
    {
     "data": {
      "text/plain": [
<<<<<<< HEAD
       "fips\n",
       "6001.0    5741871\n",
       "6003.0       4436\n",
       "6005.0     150719\n",
       "6007.0     716705\n",
       "6009.0      99176\n",
       "Name: cases, dtype: int64"
      ]
     },
     "execution_count": 132,
=======
       "county\n",
       "Alameda      4319856\n",
       "Alpine          2827\n",
       "Amador         85707\n",
       "Butte         516050\n",
       "Calaveras      65984\n",
       "Name: cases, dtype: int64"
      ]
     },
     "execution_count": 251,
>>>>>>> 6a92821d77e94aecbbb0a7fd419eb4ac9b326831
     "metadata": {},
     "output_type": "execute_result"
    }
   ],
   "source": [
    "# Get cases sum() by county \n",
    "grouped_norcal_county_total = grouped_norcal_county_df['cases'].sum()\n",
    "grouped_norcal_county_total.head()"
   ]
  },
  {
   "cell_type": "code",
<<<<<<< HEAD
   "execution_count": 133,
=======
   "execution_count": 252,
>>>>>>> 6a92821d77e94aecbbb0a7fd419eb4ac9b326831
   "metadata": {},
   "outputs": [
    {
     "data": {
      "text/html": [
       "<div>\n",
       "<style scoped>\n",
       "    .dataframe tbody tr th:only-of-type {\n",
       "        vertical-align: middle;\n",
       "    }\n",
       "\n",
       "    .dataframe tbody tr th {\n",
       "        vertical-align: top;\n",
       "    }\n",
       "\n",
       "    .dataframe thead th {\n",
       "        text-align: right;\n",
       "    }\n",
       "</style>\n",
       "<table border=\"1\" class=\"dataframe\">\n",
       "  <thead>\n",
       "    <tr style=\"text-align: right;\">\n",
       "      <th></th>\n",
       "      <th>cases</th>\n",
       "    </tr>\n",
       "    <tr>\n",
       "      <th>fips</th>\n",
       "      <th></th>\n",
       "    </tr>\n",
       "  </thead>\n",
       "  <tbody>\n",
       "    <tr>\n",
<<<<<<< HEAD
       "      <th>6001.0</th>\n",
       "      <td>5741871</td>\n",
       "    </tr>\n",
       "    <tr>\n",
       "      <th>6003.0</th>\n",
       "      <td>4436</td>\n",
       "    </tr>\n",
       "    <tr>\n",
       "      <th>6005.0</th>\n",
       "      <td>150719</td>\n",
       "    </tr>\n",
       "    <tr>\n",
       "      <th>6007.0</th>\n",
       "      <td>716705</td>\n",
       "    </tr>\n",
       "    <tr>\n",
       "      <th>6009.0</th>\n",
       "      <td>99176</td>\n",
=======
       "      <th>Alameda</th>\n",
       "      <td>4319856</td>\n",
       "    </tr>\n",
       "    <tr>\n",
       "      <th>Alpine</th>\n",
       "      <td>2827</td>\n",
       "    </tr>\n",
       "    <tr>\n",
       "      <th>Amador</th>\n",
       "      <td>85707</td>\n",
       "    </tr>\n",
       "    <tr>\n",
       "      <th>Butte</th>\n",
       "      <td>516050</td>\n",
       "    </tr>\n",
       "    <tr>\n",
       "      <th>Calaveras</th>\n",
       "      <td>65984</td>\n",
>>>>>>> 6a92821d77e94aecbbb0a7fd419eb4ac9b326831
       "    </tr>\n",
       "  </tbody>\n",
       "</table>\n",
       "</div>"
      ],
      "text/plain": [
<<<<<<< HEAD
       "          cases\n",
       "fips           \n",
       "6001.0  5741871\n",
       "6003.0     4436\n",
       "6005.0   150719\n",
       "6007.0   716705\n",
       "6009.0    99176"
      ]
     },
     "execution_count": 133,
=======
       "             cases\n",
       "county            \n",
       "Alameda    4319856\n",
       "Alpine        2827\n",
       "Amador       85707\n",
       "Butte       516050\n",
       "Calaveras    65984"
      ]
     },
     "execution_count": 252,
>>>>>>> 6a92821d77e94aecbbb0a7fd419eb4ac9b326831
     "metadata": {},
     "output_type": "execute_result"
    }
   ],
   "source": [
    "# Create DataFrame from series\n",
    "grouped_norcal_county_total_df = pd.DataFrame(grouped_norcal_county_total)\n",
    "grouped_norcal_county_total_df.head()"
   ]
  },
  {
   "cell_type": "code",
   "execution_count": 255,
   "metadata": {},
   "outputs": [
    {
     "data": {
      "text/html": [
       "<div>\n",
       "<style scoped>\n",
       "    .dataframe tbody tr th:only-of-type {\n",
       "        vertical-align: middle;\n",
       "    }\n",
       "\n",
       "    .dataframe tbody tr th {\n",
       "        vertical-align: top;\n",
       "    }\n",
       "\n",
       "    .dataframe thead th {\n",
       "        text-align: right;\n",
       "    }\n",
       "</style>\n",
       "<table border=\"1\" class=\"dataframe\">\n",
       "  <thead>\n",
       "    <tr style=\"text-align: right;\">\n",
       "      <th></th>\n",
       "      <th>county</th>\n",
       "      <th>cases</th>\n",
       "      <th>fips</th>\n",
       "      <th>latitude</th>\n",
       "      <th>longitude</th>\n",
       "    </tr>\n",
       "  </thead>\n",
       "  <tbody>\n",
       "    <tr>\n",
       "      <th>0</th>\n",
       "      <td>Alameda</td>\n",
       "      <td>4319856</td>\n",
       "      <td>6001</td>\n",
       "      <td>37.647139</td>\n",
       "      <td>-121.912488</td>\n",
       "    </tr>\n",
       "    <tr>\n",
       "      <th>1</th>\n",
       "      <td>Alpine</td>\n",
       "      <td>2827</td>\n",
       "      <td>6003</td>\n",
       "      <td>38.621783</td>\n",
       "      <td>-119.798352</td>\n",
       "    </tr>\n",
       "    <tr>\n",
       "      <th>2</th>\n",
       "      <td>Amador</td>\n",
       "      <td>85707</td>\n",
       "      <td>6005</td>\n",
       "      <td>38.443550</td>\n",
       "      <td>-120.653856</td>\n",
       "    </tr>\n",
       "    <tr>\n",
       "      <th>3</th>\n",
       "      <td>Butte</td>\n",
       "      <td>516050</td>\n",
       "      <td>6007</td>\n",
       "      <td>39.665959</td>\n",
       "      <td>-121.601919</td>\n",
       "    </tr>\n",
       "    <tr>\n",
       "      <th>4</th>\n",
       "      <td>Calaveras</td>\n",
       "      <td>65984</td>\n",
       "      <td>6009</td>\n",
       "      <td>38.183900</td>\n",
       "      <td>-120.561442</td>\n",
       "    </tr>\n",
       "  </tbody>\n",
       "</table>\n",
       "</div>"
      ],
      "text/plain": [
       "      county    cases  fips   latitude   longitude\n",
       "0    Alameda  4319856  6001  37.647139 -121.912488\n",
       "1     Alpine     2827  6003  38.621783 -119.798352\n",
       "2     Amador    85707  6005  38.443550 -120.653856\n",
       "3      Butte   516050  6007  39.665959 -121.601919\n",
       "4  Calaveras    65984  6009  38.183900 -120.561442"
      ]
     },
     "execution_count": 255,
     "metadata": {},
     "output_type": "execute_result"
    }
   ],
   "source": [
    "merge_norcal_geo_df = pd.merge(grouped_norcal_county_total_df,clean_geo_ca_df, on=\"county\", how=\"inner\")\n",
    "merge_norcal_geo_df.head()"
   ]
  },
  {
   "cell_type": "markdown",
   "metadata": {
    "jupyter": {
     "source_hidden": true
    }
   },
   "source": [
    "## Make connection to Postgres"
   ]
  },
  {
   "cell_type": "code",
   "execution_count": 134,
   "metadata": {},
   "outputs": [
    {
     "data": {
      "text/plain": [
       "date      datetime64[ns]\n",
       "county            object\n",
       "state             object\n",
       "fips             float64\n",
       "cases              int64\n",
       "deaths           float64\n",
       "dtype: object"
      ]
     },
     "execution_count": 134,
     "metadata": {},
     "output_type": "execute_result"
    }
   ],
   "source": [
    "clean_covid_df.dtypes"
   ]
  },
  {
   "cell_type": "code",
<<<<<<< HEAD
   "execution_count": 135,
=======
   "execution_count": 257,
>>>>>>> 6a92821d77e94aecbbb0a7fd419eb4ac9b326831
   "metadata": {},
   "outputs": [],
   "source": [
    "# Make connection to telecommunication_db in postgresql\n",
    "connection_string = f\"postgres:{pg_password}@localhost:5432/covid_mask_effect_db\"\n",
    "engine = create_engine(f'postgresql://{connection_string}')"
   ]
  },
  {
   "cell_type": "code",
<<<<<<< HEAD
   "execution_count": 136,
=======
   "execution_count": 258,
>>>>>>> 6a92821d77e94aecbbb0a7fd419eb4ac9b326831
   "metadata": {},
   "outputs": [
    {
     "data": {
      "text/plain": [
<<<<<<< HEAD
       "['cali_data', 'socal_data', 'nocal_data']"
      ]
     },
     "execution_count": 136,
=======
       "['socal_data', 'nocal_data', 'new_cali_data', 'cali_data']"
      ]
     },
     "execution_count": 258,
>>>>>>> 6a92821d77e94aecbbb0a7fd419eb4ac9b326831
     "metadata": {},
     "output_type": "execute_result"
    }
   ],
   "source": [
    "# Read in tables_names() from postgres\n",
    "engine.table_names()"
   ]
  },
  {
   "cell_type": "markdown",
   "metadata": {},
   "source": [
    "## Load DataFrames to Postgres"
   ]
  },
  {
   "cell_type": "code",
   "execution_count": 138,
   "metadata": {},
   "outputs": [],
   "source": [
    "#cali_date_total_df.to_sql(name='cali_data', con=engine, if_exists='append', index=True)"
   ]
  },
  {
   "cell_type": "code",
   "execution_count": 139,
   "metadata": {},
   "outputs": [],
   "source": [
    "grouped_socal_county_totals_df.to_sql(name='socal_data', con=engine, if_exists='append', index=True)"
   ]
  },
  {
   "cell_type": "code",
   "execution_count": 140,
   "metadata": {},
   "outputs": [],
   "source": [
    "grouped_norcal_county_total_df.to_sql(name='nocal_data', con=engine, if_exists='append', index=True)"
   ]
  },
  {
   "cell_type": "markdown",
   "metadata": {},
   "source": [
    "## Read in tables from pgadmin to confirm data was received correclty"
   ]
  },
  {
   "cell_type": "code",
   "execution_count": 141,
   "metadata": {},
   "outputs": [
    {
     "data": {
      "text/html": [
       "<div>\n",
       "<style scoped>\n",
       "    .dataframe tbody tr th:only-of-type {\n",
       "        vertical-align: middle;\n",
       "    }\n",
       "\n",
       "    .dataframe tbody tr th {\n",
       "        vertical-align: top;\n",
       "    }\n",
       "\n",
       "    .dataframe thead th {\n",
       "        text-align: right;\n",
       "    }\n",
       "</style>\n",
       "<table border=\"1\" class=\"dataframe\">\n",
       "  <thead>\n",
       "    <tr style=\"text-align: right;\">\n",
       "      <th></th>\n",
       "      <th>date</th>\n",
       "      <th>cases</th>\n",
       "    </tr>\n",
       "  </thead>\n",
       "  <tbody>\n",
       "    <tr>\n",
       "      <th>0</th>\n",
       "      <td>2020-01-25</td>\n",
       "      <td>1</td>\n",
       "    </tr>\n",
       "    <tr>\n",
       "      <th>1</th>\n",
       "      <td>2020-01-26</td>\n",
       "      <td>2</td>\n",
       "    </tr>\n",
       "    <tr>\n",
       "      <th>2</th>\n",
       "      <td>2020-01-27</td>\n",
       "      <td>2</td>\n",
       "    </tr>\n",
       "    <tr>\n",
       "      <th>3</th>\n",
       "      <td>2020-01-28</td>\n",
       "      <td>2</td>\n",
       "    </tr>\n",
       "    <tr>\n",
       "      <th>4</th>\n",
       "      <td>2020-01-29</td>\n",
       "      <td>2</td>\n",
       "    </tr>\n",
       "  </tbody>\n",
       "</table>\n",
       "</div>"
      ],
      "text/plain": [
       "         date  cases\n",
       "0  2020-01-25      1\n",
       "1  2020-01-26      2\n",
       "2  2020-01-27      2\n",
       "3  2020-01-28      2\n",
       "4  2020-01-29      2"
      ]
     },
     "execution_count": 141,
     "metadata": {},
     "output_type": "execute_result"
    }
   ],
   "source": [
    "pd.read_sql_query('SELECT * FROM cali_data', con=engine).head()"
   ]
  },
  {
   "cell_type": "code",
   "execution_count": 142,
   "metadata": {},
   "outputs": [
    {
     "data": {
      "text/html": [
       "<div>\n",
       "<style scoped>\n",
       "    .dataframe tbody tr th:only-of-type {\n",
       "        vertical-align: middle;\n",
       "    }\n",
       "\n",
       "    .dataframe tbody tr th {\n",
       "        vertical-align: top;\n",
       "    }\n",
       "\n",
       "    .dataframe thead th {\n",
       "        text-align: right;\n",
       "    }\n",
       "</style>\n",
       "<table border=\"1\" class=\"dataframe\">\n",
       "  <thead>\n",
       "    <tr style=\"text-align: right;\">\n",
       "      <th></th>\n",
       "      <th>fips</th>\n",
       "      <th>cases</th>\n",
       "    </tr>\n",
       "  </thead>\n",
       "  <tbody>\n",
       "    <tr>\n",
       "      <th>0</th>\n",
       "      <td>6025</td>\n",
       "      <td>3043737</td>\n",
       "    </tr>\n",
       "    <tr>\n",
       "      <th>1</th>\n",
       "      <td>6027</td>\n",
       "      <td>56686</td>\n",
       "    </tr>\n",
       "    <tr>\n",
       "      <th>2</th>\n",
       "      <td>6029</td>\n",
       "      <td>7884109</td>\n",
       "    </tr>\n",
       "    <tr>\n",
       "      <th>3</th>\n",
       "      <td>6037</td>\n",
       "      <td>81587695</td>\n",
       "    </tr>\n",
       "    <tr>\n",
       "      <th>4</th>\n",
       "      <td>6059</td>\n",
       "      <td>16437080</td>\n",
       "    </tr>\n",
       "  </tbody>\n",
       "</table>\n",
       "</div>"
      ],
      "text/plain": [
       "   fips     cases\n",
       "0  6025   3043737\n",
       "1  6027     56686\n",
       "2  6029   7884109\n",
       "3  6037  81587695\n",
       "4  6059  16437080"
      ]
     },
     "execution_count": 142,
     "metadata": {},
     "output_type": "execute_result"
    }
   ],
   "source": [
    "pd.read_sql_query('SELECT * FROM socal_data', con=engine).head()"
   ]
  },
  {
   "cell_type": "code",
   "execution_count": 143,
   "metadata": {},
   "outputs": [
    {
     "data": {
      "text/html": [
       "<div>\n",
       "<style scoped>\n",
       "    .dataframe tbody tr th:only-of-type {\n",
       "        vertical-align: middle;\n",
       "    }\n",
       "\n",
       "    .dataframe tbody tr th {\n",
       "        vertical-align: top;\n",
       "    }\n",
       "\n",
       "    .dataframe thead th {\n",
       "        text-align: right;\n",
       "    }\n",
       "</style>\n",
       "<table border=\"1\" class=\"dataframe\">\n",
       "  <thead>\n",
       "    <tr style=\"text-align: right;\">\n",
       "      <th></th>\n",
       "      <th>fips</th>\n",
       "      <th>cases</th>\n",
       "    </tr>\n",
       "  </thead>\n",
       "  <tbody>\n",
       "    <tr>\n",
       "      <th>0</th>\n",
       "      <td>6001</td>\n",
       "      <td>5741871</td>\n",
       "    </tr>\n",
       "    <tr>\n",
       "      <th>1</th>\n",
       "      <td>6003</td>\n",
       "      <td>4436</td>\n",
       "    </tr>\n",
       "    <tr>\n",
       "      <th>2</th>\n",
       "      <td>6005</td>\n",
       "      <td>150719</td>\n",
       "    </tr>\n",
       "    <tr>\n",
       "      <th>3</th>\n",
       "      <td>6007</td>\n",
       "      <td>716705</td>\n",
       "    </tr>\n",
       "    <tr>\n",
       "      <th>4</th>\n",
       "      <td>6009</td>\n",
       "      <td>99176</td>\n",
       "    </tr>\n",
       "  </tbody>\n",
       "</table>\n",
       "</div>"
      ],
      "text/plain": [
       "   fips    cases\n",
       "0  6001  5741871\n",
       "1  6003     4436\n",
       "2  6005   150719\n",
       "3  6007   716705\n",
       "4  6009    99176"
      ]
     },
     "execution_count": 143,
     "metadata": {},
     "output_type": "execute_result"
    }
   ],
   "source": [
    "pd.read_sql_query('SELECT * FROM nocal_data', con=engine).head()"
   ]
  },
  {
   "cell_type": "markdown",
   "metadata": {},
   "source": [
    "# Convert new tables into csv"
   ]
  },
  {
   "cell_type": "code",
   "execution_count": 144,
   "metadata": {},
   "outputs": [],
   "source": [
    "covid_cali_2020_df.to_csv('output/covid_cali_2020_df.csv')"
   ]
  },
  {
   "cell_type": "code",
   "execution_count": 145,
   "metadata": {},
   "outputs": [],
   "source": [
    "cali_date_total_df.to_csv('output/cali_date_total_df.csv')"
   ]
  },
  {
   "cell_type": "code",
   "execution_count": 146,
   "metadata": {},
   "outputs": [],
   "source": [
    "grouped_socal_county_totals_df.to_csv('output/grouped_socal_county_totals_df.csv')"
   ]
  },
  {
   "cell_type": "code",
   "execution_count": 147,
   "metadata": {},
   "outputs": [],
   "source": [
    "grouped_norcal_county_total_df.to_csv('output/grouped_norcal_county_total_df.csv')"
   ]
  },
  {
   "cell_type": "code",
   "execution_count": null,
   "metadata": {},
   "outputs": [],
   "source": []
  }
 ],
 "metadata": {
  "kernelspec": {
   "display_name": "Python 3",
   "language": "python",
   "name": "python3"
  },
  "language_info": {
   "codemirror_mode": {
    "name": "ipython",
    "version": 3
   },
   "file_extension": ".py",
   "mimetype": "text/x-python",
   "name": "python",
   "nbconvert_exporter": "python",
   "pygments_lexer": "ipython3",
   "version": "3.8.3"
  }
 },
 "nbformat": 4,
 "nbformat_minor": 4
}
